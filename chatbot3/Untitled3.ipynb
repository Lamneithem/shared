{
 "cells": [
  {
   "cell_type": "code",
   "execution_count": 1,
   "metadata": {},
   "outputs": [
    {
     "name": "stdout",
     "output_type": "stream",
     "text": [
      "Collecting package metadata (current_repodata.json): ...working... done\n",
      "Solving environment: ...working... done\n",
      "\n",
      "## Package Plan ##\n",
      "\n",
      "  environment location: C:\\Users\\Boinu\\Anaconda3\n",
      "\n",
      "  added / updated specs:\n",
      "    - speechrecognition\n",
      "\n",
      "\n",
      "The following packages will be downloaded:\n",
      "\n",
      "    package                    |            build\n",
      "    ---------------------------|-----------------\n",
      "    conda-4.9.2                |   py37haa95532_0         2.9 MB\n",
      "    speechrecognition-3.6.3    |        py37_1000        30.7 MB  conda-forge/label/cf201901\n",
      "    ------------------------------------------------------------\n",
      "                                           Total:        33.6 MB\n",
      "\n",
      "The following NEW packages will be INSTALLED:\n",
      "\n",
      "  speechrecognition  conda-forge/label/cf201901/win-64::speechrecognition-3.6.3-py37_1000\n",
      "\n",
      "The following packages will be UPDATED:\n",
      "\n",
      "  conda                                       4.7.10-py37_0 --> 4.9.2-py37haa95532_0\n",
      "\n",
      "\n",
      "\n",
      "Downloading and Extracting Packages\n",
      "\n",
      "conda-4.9.2          | 2.9 MB    |            |   0% \n",
      "conda-4.9.2          | 2.9 MB    |            |   1% \n",
      "conda-4.9.2          | 2.9 MB    | 1          |   2% \n",
      "conda-4.9.2          | 2.9 MB    | 3          |   4% \n",
      "conda-4.9.2          | 2.9 MB    | 6          |   7% \n",
      "conda-4.9.2          | 2.9 MB    | #1         |  12% \n",
      "conda-4.9.2          | 2.9 MB    | ##1        |  21% \n",
      "conda-4.9.2          | 2.9 MB    | ###3       |  33% \n",
      "conda-4.9.2          | 2.9 MB    | #####2     |  52% \n",
      "conda-4.9.2          | 2.9 MB    | #######3   |  74% \n",
      "conda-4.9.2          | 2.9 MB    | #########6 |  96% \n",
      "conda-4.9.2          | 2.9 MB    | ########## | 100% \n",
      "\n",
      "speechrecognition-3. | 30.7 MB   |            |   0% \n",
      "speechrecognition-3. | 30.7 MB   |            |   0% \n",
      "speechrecognition-3. | 30.7 MB   |            |   0% \n",
      "speechrecognition-3. | 30.7 MB   |            |   0% \n",
      "speechrecognition-3. | 30.7 MB   |            |   1% \n",
      "speechrecognition-3. | 30.7 MB   |            |   1% \n",
      "speechrecognition-3. | 30.7 MB   | 1          |   2% \n",
      "speechrecognition-3. | 30.7 MB   | 2          |   2% \n",
      "speechrecognition-3. | 30.7 MB   | 3          |   4% \n",
      "speechrecognition-3. | 30.7 MB   | 4          |   4% \n",
      "speechrecognition-3. | 30.7 MB   | 6          |   6% \n",
      "speechrecognition-3. | 30.7 MB   | 7          |   7% \n",
      "speechrecognition-3. | 30.7 MB   | 8          |   8% \n",
      "speechrecognition-3. | 30.7 MB   | #1         |  12% \n",
      "speechrecognition-3. | 30.7 MB   | #8         |  18% \n",
      "speechrecognition-3. | 30.7 MB   | ##         |  21% \n",
      "speechrecognition-3. | 30.7 MB   | ##3        |  23% \n",
      "speechrecognition-3. | 30.7 MB   | ##5        |  25% \n",
      "speechrecognition-3. | 30.7 MB   | ##7        |  27% \n",
      "speechrecognition-3. | 30.7 MB   | ##8        |  29% \n",
      "speechrecognition-3. | 30.7 MB   | ###        |  31% \n",
      "speechrecognition-3. | 30.7 MB   | ###2       |  32% \n",
      "speechrecognition-3. | 30.7 MB   | ###4       |  34% \n",
      "speechrecognition-3. | 30.7 MB   | ###6       |  36% \n",
      "speechrecognition-3. | 30.7 MB   | ###7       |  38% \n",
      "speechrecognition-3. | 30.7 MB   | ###9       |  40% \n",
      "speechrecognition-3. | 30.7 MB   | ####1      |  42% \n",
      "speechrecognition-3. | 30.7 MB   | ####3      |  43% \n",
      "speechrecognition-3. | 30.7 MB   | ####5      |  45% \n",
      "speechrecognition-3. | 30.7 MB   | ####6      |  47% \n",
      "speechrecognition-3. | 30.7 MB   | ####8      |  49% \n",
      "speechrecognition-3. | 30.7 MB   | #####      |  50% \n",
      "speechrecognition-3. | 30.7 MB   | #####2     |  52% \n",
      "speechrecognition-3. | 30.7 MB   | #####3     |  54% \n",
      "speechrecognition-3. | 30.7 MB   | #####5     |  56% \n",
      "speechrecognition-3. | 30.7 MB   | #####7     |  58% \n",
      "speechrecognition-3. | 30.7 MB   | #####9     |  59% \n",
      "speechrecognition-3. | 30.7 MB   | ######1    |  61% \n",
      "speechrecognition-3. | 30.7 MB   | ######2    |  63% \n",
      "speechrecognition-3. | 30.7 MB   | ######4    |  65% \n",
      "speechrecognition-3. | 30.7 MB   | ######6    |  67% \n",
      "speechrecognition-3. | 30.7 MB   | ######8    |  69% \n",
      "speechrecognition-3. | 30.7 MB   | #######    |  71% \n",
      "speechrecognition-3. | 30.7 MB   | #######2   |  73% \n",
      "speechrecognition-3. | 30.7 MB   | #######4   |  75% \n",
      "speechrecognition-3. | 30.7 MB   | #######6   |  77% \n",
      "speechrecognition-3. | 30.7 MB   | #######8   |  79% \n",
      "speechrecognition-3. | 30.7 MB   | ########   |  81% \n",
      "speechrecognition-3. | 30.7 MB   | ########2  |  83% \n",
      "speechrecognition-3. | 30.7 MB   | ########5  |  85% \n",
      "speechrecognition-3. | 30.7 MB   | ########7  |  87% \n",
      "speechrecognition-3. | 30.7 MB   | ########9  |  89% \n",
      "speechrecognition-3. | 30.7 MB   | #########1 |  91% \n",
      "speechrecognition-3. | 30.7 MB   | #########3 |  93% \n",
      "speechrecognition-3. | 30.7 MB   | #########5 |  95% \n",
      "speechrecognition-3. | 30.7 MB   | #########7 |  97% \n",
      "speechrecognition-3. | 30.7 MB   | #########9 |  99% \n",
      "speechrecognition-3. | 30.7 MB   | ########## | 100% \n",
      "Preparing transaction: ...working... done\n",
      "Verifying transaction: ...working... done\n",
      "Executing transaction: ...working... done\n",
      "\n",
      "Note: you may need to restart the kernel to use updated packages.\n"
     ]
    }
   ],
   "source": [
    "conda install -c conda-forge/label/cf201901 speechrecognition"
   ]
  },
  {
   "cell_type": "code",
   "execution_count": 2,
   "metadata": {},
   "outputs": [
    {
     "name": "stdout",
     "output_type": "stream",
     "text": [
      "Collecting package metadata (current_repodata.json): ...working... done\n",
      "Solving environment: ...working... done\n",
      "\n",
      "## Package Plan ##\n",
      "\n",
      "  environment location: C:\\Users\\Boinu\\Anaconda3\n",
      "\n",
      "  added / updated specs:\n",
      "    - pyaudio\n",
      "\n",
      "\n",
      "The following packages will be downloaded:\n",
      "\n",
      "    package                    |            build\n",
      "    ---------------------------|-----------------\n",
      "    portaudio-19.6.0           |                0          89 KB  conda-forge/label/cf201901\n",
      "    pyaudio-0.2.11             |   py37hfa6e2cd_1          31 KB\n",
      "    tbb-2018_20171205          |           vc14_0         718 KB  conda-forge/label/cf201901\n",
      "    ------------------------------------------------------------\n",
      "                                           Total:         838 KB\n",
      "\n",
      "The following NEW packages will be INSTALLED:\n",
      "\n",
      "  portaudio          conda-forge/label/cf201901/win-64::portaudio-19.6.0-0\n",
      "  pyaudio            pkgs/main/win-64::pyaudio-0.2.11-py37hfa6e2cd_1\n",
      "  tbb                conda-forge/label/cf201901/win-64::tbb-2018_20171205-vc14_0\n",
      "\n",
      "\n",
      "\n",
      "Downloading and Extracting Packages\n",
      "\n",
      "pyaudio-0.2.11       | 31 KB     |            |   0% \n",
      "pyaudio-0.2.11       | 31 KB     | #####1     |  51% \n",
      "pyaudio-0.2.11       | 31 KB     | ########## | 100% \n",
      "pyaudio-0.2.11       | 31 KB     | ########## | 100% \n",
      "\n",
      "portaudio-19.6.0     | 89 KB     |            |   0% \n",
      "portaudio-19.6.0     | 89 KB     | #7         |  18% \n",
      "portaudio-19.6.0     | 89 KB     | #####3     |  54% \n",
      "portaudio-19.6.0     | 89 KB     | ########## | 100% \n",
      "portaudio-19.6.0     | 89 KB     | ########## | 100% \n",
      "\n",
      "tbb-2018_20171205    | 718 KB    |            |   0% \n",
      "tbb-2018_20171205    | 718 KB    | 2          |   2% \n",
      "tbb-2018_20171205    | 718 KB    | 8          |   9% \n",
      "tbb-2018_20171205    | 718 KB    | #7         |  18% \n",
      "tbb-2018_20171205    | 718 KB    | ##4        |  25% \n",
      "tbb-2018_20171205    | 718 KB    | ##8        |  29% \n",
      "tbb-2018_20171205    | 718 KB    | ####4      |  45% \n",
      "tbb-2018_20171205    | 718 KB    | #####5     |  56% \n",
      "tbb-2018_20171205    | 718 KB    | ########4  |  85% \n",
      "tbb-2018_20171205    | 718 KB    | #########3 |  94% \n",
      "tbb-2018_20171205    | 718 KB    | ########## | 100% \n",
      "Preparing transaction: ...working... done\n",
      "Verifying transaction: ...working... done\n",
      "Executing transaction: ...working... done\n"
     ]
    },
    {
     "name": "stderr",
     "output_type": "stream",
     "text": [
      "\n",
      "The environment is inconsistent, please check the package plan carefully\n",
      "The following packages are causing the inconsistency:\n",
      "\n",
      "  - defaults/win-64::anaconda==2019.07=py37_0\n",
      "  - defaults/win-64::numba==0.44.1=py37hf9181ef_0\n"
     ]
    },
    {
     "name": "stdout",
     "output_type": "stream",
     "text": [
      "\n",
      "Note: you may need to restart the kernel to use updated packages.\n"
     ]
    }
   ],
   "source": [
    "conda install -c conda-forge/label/cf201901 pyaudio"
   ]
  },
  {
   "cell_type": "code",
   "execution_count": 4,
   "metadata": {},
   "outputs": [
    {
     "name": "stdout",
     "output_type": "stream",
     "text": [
      "Could not import the PyAudio C module '_portaudio'.\n"
     ]
    },
    {
     "ename": "AttributeError",
     "evalue": "Could not find PyAudio; check installation",
     "output_type": "error",
     "traceback": [
      "\u001b[1;31m---------------------------------------------------------------------------\u001b[0m",
      "\u001b[1;31mImportError\u001b[0m                               Traceback (most recent call last)",
      "\u001b[1;32m~\\Anaconda3\\lib\\site-packages\\speech_recognition\\__init__.py\u001b[0m in \u001b[0;36mget_pyaudio\u001b[1;34m()\u001b[0m\n\u001b[0;32m    107\u001b[0m         \u001b[1;32mtry\u001b[0m\u001b[1;33m:\u001b[0m\u001b[1;33m\u001b[0m\u001b[1;33m\u001b[0m\u001b[0m\n\u001b[1;32m--> 108\u001b[1;33m             \u001b[1;32mimport\u001b[0m \u001b[0mpyaudio\u001b[0m\u001b[1;33m\u001b[0m\u001b[1;33m\u001b[0m\u001b[0m\n\u001b[0m\u001b[0;32m    109\u001b[0m         \u001b[1;32mexcept\u001b[0m \u001b[0mImportError\u001b[0m\u001b[1;33m:\u001b[0m\u001b[1;33m\u001b[0m\u001b[1;33m\u001b[0m\u001b[0m\n",
      "\u001b[1;32m~\\Anaconda3\\lib\\site-packages\\pyaudio.py\u001b[0m in \u001b[0;36m<module>\u001b[1;34m\u001b[0m\n\u001b[0;32m    115\u001b[0m \u001b[1;32mtry\u001b[0m\u001b[1;33m:\u001b[0m\u001b[1;33m\u001b[0m\u001b[1;33m\u001b[0m\u001b[0m\n\u001b[1;32m--> 116\u001b[1;33m     \u001b[1;32mimport\u001b[0m \u001b[0m_portaudio\u001b[0m \u001b[1;32mas\u001b[0m \u001b[0mpa\u001b[0m\u001b[1;33m\u001b[0m\u001b[1;33m\u001b[0m\u001b[0m\n\u001b[0m\u001b[0;32m    117\u001b[0m \u001b[1;32mexcept\u001b[0m \u001b[0mImportError\u001b[0m\u001b[1;33m:\u001b[0m\u001b[1;33m\u001b[0m\u001b[1;33m\u001b[0m\u001b[0m\n",
      "\u001b[1;31mImportError\u001b[0m: DLL load failed: The specified module could not be found.",
      "\nDuring handling of the above exception, another exception occurred:\n",
      "\u001b[1;31mAttributeError\u001b[0m                            Traceback (most recent call last)",
      "\u001b[1;32m<ipython-input-4-294266da4db5>\u001b[0m in \u001b[0;36m<module>\u001b[1;34m\u001b[0m\n\u001b[0;32m      2\u001b[0m \u001b[1;33m\u001b[0m\u001b[0m\n\u001b[0;32m      3\u001b[0m \u001b[0mr\u001b[0m \u001b[1;33m=\u001b[0m \u001b[0msr\u001b[0m\u001b[1;33m.\u001b[0m\u001b[0mRecognizer\u001b[0m\u001b[1;33m(\u001b[0m\u001b[1;33m)\u001b[0m\u001b[1;33m\u001b[0m\u001b[1;33m\u001b[0m\u001b[0m\n\u001b[1;32m----> 4\u001b[1;33m \u001b[1;32mwith\u001b[0m \u001b[0msr\u001b[0m\u001b[1;33m.\u001b[0m\u001b[0mMicrophone\u001b[0m\u001b[1;33m(\u001b[0m\u001b[1;33m)\u001b[0m \u001b[1;32mas\u001b[0m \u001b[0msource\u001b[0m\u001b[1;33m:\u001b[0m\u001b[1;33m\u001b[0m\u001b[1;33m\u001b[0m\u001b[0m\n\u001b[0m\u001b[0;32m      5\u001b[0m     \u001b[0mprint\u001b[0m\u001b[1;33m(\u001b[0m\u001b[1;34m'Speak:'\u001b[0m\u001b[1;33m)\u001b[0m\u001b[1;33m\u001b[0m\u001b[1;33m\u001b[0m\u001b[0m\n\u001b[0;32m      6\u001b[0m     \u001b[0maudio\u001b[0m \u001b[1;33m=\u001b[0m \u001b[0mr\u001b[0m\u001b[1;33m.\u001b[0m\u001b[0mlisten\u001b[0m\u001b[1;33m(\u001b[0m\u001b[0msource\u001b[0m\u001b[1;33m)\u001b[0m\u001b[1;33m\u001b[0m\u001b[1;33m\u001b[0m\u001b[0m\n",
      "\u001b[1;32m~\\Anaconda3\\lib\\site-packages\\speech_recognition\\__init__.py\u001b[0m in \u001b[0;36m__init__\u001b[1;34m(self, device_index, sample_rate, chunk_size)\u001b[0m\n\u001b[0;32m     77\u001b[0m \u001b[1;33m\u001b[0m\u001b[0m\n\u001b[0;32m     78\u001b[0m         \u001b[1;31m# set up PyAudio\u001b[0m\u001b[1;33m\u001b[0m\u001b[1;33m\u001b[0m\u001b[1;33m\u001b[0m\u001b[0m\n\u001b[1;32m---> 79\u001b[1;33m         \u001b[0mself\u001b[0m\u001b[1;33m.\u001b[0m\u001b[0mpyaudio_module\u001b[0m \u001b[1;33m=\u001b[0m \u001b[0mself\u001b[0m\u001b[1;33m.\u001b[0m\u001b[0mget_pyaudio\u001b[0m\u001b[1;33m(\u001b[0m\u001b[1;33m)\u001b[0m\u001b[1;33m\u001b[0m\u001b[1;33m\u001b[0m\u001b[0m\n\u001b[0m\u001b[0;32m     80\u001b[0m         \u001b[0maudio\u001b[0m \u001b[1;33m=\u001b[0m \u001b[0mself\u001b[0m\u001b[1;33m.\u001b[0m\u001b[0mpyaudio_module\u001b[0m\u001b[1;33m.\u001b[0m\u001b[0mPyAudio\u001b[0m\u001b[1;33m(\u001b[0m\u001b[1;33m)\u001b[0m\u001b[1;33m\u001b[0m\u001b[1;33m\u001b[0m\u001b[0m\n\u001b[0;32m     81\u001b[0m         \u001b[1;32mtry\u001b[0m\u001b[1;33m:\u001b[0m\u001b[1;33m\u001b[0m\u001b[1;33m\u001b[0m\u001b[0m\n",
      "\u001b[1;32m~\\Anaconda3\\lib\\site-packages\\speech_recognition\\__init__.py\u001b[0m in \u001b[0;36mget_pyaudio\u001b[1;34m()\u001b[0m\n\u001b[0;32m    108\u001b[0m             \u001b[1;32mimport\u001b[0m \u001b[0mpyaudio\u001b[0m\u001b[1;33m\u001b[0m\u001b[1;33m\u001b[0m\u001b[0m\n\u001b[0;32m    109\u001b[0m         \u001b[1;32mexcept\u001b[0m \u001b[0mImportError\u001b[0m\u001b[1;33m:\u001b[0m\u001b[1;33m\u001b[0m\u001b[1;33m\u001b[0m\u001b[0m\n\u001b[1;32m--> 110\u001b[1;33m             \u001b[1;32mraise\u001b[0m \u001b[0mAttributeError\u001b[0m\u001b[1;33m(\u001b[0m\u001b[1;34m\"Could not find PyAudio; check installation\"\u001b[0m\u001b[1;33m)\u001b[0m\u001b[1;33m\u001b[0m\u001b[1;33m\u001b[0m\u001b[0m\n\u001b[0m\u001b[0;32m    111\u001b[0m         \u001b[1;32mfrom\u001b[0m \u001b[0mdistutils\u001b[0m\u001b[1;33m.\u001b[0m\u001b[0mversion\u001b[0m \u001b[1;32mimport\u001b[0m \u001b[0mLooseVersion\u001b[0m\u001b[1;33m\u001b[0m\u001b[1;33m\u001b[0m\u001b[0m\n\u001b[0;32m    112\u001b[0m         \u001b[1;32mif\u001b[0m \u001b[0mLooseVersion\u001b[0m\u001b[1;33m(\u001b[0m\u001b[0mpyaudio\u001b[0m\u001b[1;33m.\u001b[0m\u001b[0m__version__\u001b[0m\u001b[1;33m)\u001b[0m \u001b[1;33m<\u001b[0m \u001b[0mLooseVersion\u001b[0m\u001b[1;33m(\u001b[0m\u001b[1;34m\"0.2.9\"\u001b[0m\u001b[1;33m)\u001b[0m\u001b[1;33m:\u001b[0m\u001b[1;33m\u001b[0m\u001b[1;33m\u001b[0m\u001b[0m\n",
      "\u001b[1;31mAttributeError\u001b[0m: Could not find PyAudio; check installation"
     ]
    }
   ],
   "source": [
    "import speech_recognition as sr\n",
    "\n",
    "r = sr.Recognizer()\n",
    "with sr.Microphone() as source:\n",
    "    print('Speak:')\n",
    "    audio = r.listen(source)\n",
    "    \n",
    "    \n",
    "    \n",
    "try:\n",
    "    txt = r.recognize_google(audio)\n",
    "    print(\"You said:\", txt)\n",
    "except sr.UnknownValueError:\n",
    "    print(\"Could not understand audio\")\n",
    "except sr.RequestError as e:\n",
    "    print(\"Could not request results; {0}\".format(e))"
   ]
  },
  {
   "cell_type": "code",
   "execution_count": 3,
   "metadata": {},
   "outputs": [
    {
     "name": "stdout",
     "output_type": "stream",
     "text": [
      "Requirement already satisfied: pyaudio in c:\\users\\boinu\\anaconda3\\lib\\site-packages (0.2.11)\n",
      "Note: you may need to restart the kernel to use updated packages.\n"
     ]
    }
   ],
   "source": [
    "pip install pyaudio"
   ]
  },
  {
   "cell_type": "code",
   "execution_count": null,
   "metadata": {},
   "outputs": [],
   "source": []
  }
 ],
 "metadata": {
  "kernelspec": {
   "display_name": "Python 3",
   "language": "python",
   "name": "python3"
  },
  "language_info": {
   "codemirror_mode": {
    "name": "ipython",
    "version": 3
   },
   "file_extension": ".py",
   "mimetype": "text/x-python",
   "name": "python",
   "nbconvert_exporter": "python",
   "pygments_lexer": "ipython3",
   "version": "3.7.3"
  }
 },
 "nbformat": 4,
 "nbformat_minor": 2
}

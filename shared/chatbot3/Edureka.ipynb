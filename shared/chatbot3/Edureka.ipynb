{
 "cells": [
  {
   "cell_type": "code",
   "execution_count": 1,
   "metadata": {},
   "outputs": [
    {
     "name": "stdout",
     "output_type": "stream",
     "text": [
      "Requirement already satisfied: apiai in c:\\users\\boinu\\anaconda3\\lib\\site-packages (1.2.3)\n",
      "Requirement already satisfied: numpy in c:\\users\\boinu\\anaconda3\\lib\\site-packages (from apiai) (1.16.4)\n",
      "Note: you may need to restart the kernel to use updated packages.\n"
     ]
    }
   ],
   "source": [
    "pip install apiai"
   ]
  },
  {
   "cell_type": "code",
   "execution_count": 2,
   "metadata": {},
   "outputs": [
    {
     "name": "stdout",
     "output_type": "stream",
     "text": [
      "Requirement already satisfied: assemblyai in c:\\users\\boinu\\anaconda3\\lib\\site-packages (0.2.7)\n",
      "Requirement already satisfied: click>=6.7 in c:\\users\\boinu\\anaconda3\\lib\\site-packages (from assemblyai) (7.0)\n",
      "Requirement already satisfied: requests>=2.18.4 in c:\\users\\boinu\\anaconda3\\lib\\site-packages (from assemblyai) (2.22.0)\n",
      "Requirement already satisfied: urllib3!=1.25.0,!=1.25.1,<1.26,>=1.21.1 in c:\\users\\boinu\\anaconda3\\lib\\site-packages (from requests>=2.18.4->assemblyai) (1.24.2)\n",
      "Requirement already satisfied: idna<2.9,>=2.5 in c:\\users\\boinu\\anaconda3\\lib\\site-packages (from requests>=2.18.4->assemblyai) (2.8)\n",
      "Requirement already satisfied: chardet<3.1.0,>=3.0.2 in c:\\users\\boinu\\anaconda3\\lib\\site-packages (from requests>=2.18.4->assemblyai) (3.0.4)\n",
      "Requirement already satisfied: certifi>=2017.4.17 in c:\\users\\boinu\\anaconda3\\lib\\site-packages (from requests>=2.18.4->assemblyai) (2019.6.16)\n",
      "Note: you may need to restart the kernel to use updated packages.\n"
     ]
    }
   ],
   "source": [
    "pip install assemblyai"
   ]
  },
  {
   "cell_type": "code",
   "execution_count": 3,
   "metadata": {},
   "outputs": [
    {
     "name": "stdout",
     "output_type": "stream",
     "text": [
      "Collecting google-cloud-speech\n",
      "  Using cached https://files.pythonhosted.org/packages/e6/d5/664cd3597cf3991f67d213f8e0b14c263c971af4bc806454c583f637e2a3/google_cloud_speech-2.0.1-py2.py3-none-any.whl\n",
      "Collecting proto-plus>=1.4.0 (from google-cloud-speech)\n",
      "  Using cached https://files.pythonhosted.org/packages/f6/11/cc77732454f7eb44f714481a0e614fa492c33a8a82510fc08d86fe0e0431/proto_plus-1.14.2-py3-none-any.whl\n",
      "Requirement already satisfied: google-api-core[grpc]<2.0.0dev,>=1.22.2 in c:\\users\\boinu\\anaconda3\\lib\\site-packages (from google-cloud-speech) (1.26.0)\n",
      "Collecting libcst>=0.2.5 (from google-cloud-speech)\n",
      "  Using cached https://files.pythonhosted.org/packages/1c/55/8c1e2f7edf2c15baf3e0cccfcd338ac8a3e4c52fb35d6f9ff55bb5a453df/libcst-0.3.17-py3-none-any.whl\n",
      "Requirement already satisfied: protobuf>=3.12.0 in c:\\users\\boinu\\anaconda3\\lib\\site-packages (from proto-plus>=1.4.0->google-cloud-speech) (3.15.3)\n",
      "Requirement already satisfied: requests<3.0.0dev,>=2.18.0 in c:\\users\\boinu\\anaconda3\\lib\\site-packages (from google-api-core[grpc]<2.0.0dev,>=1.22.2->google-cloud-speech) (2.22.0)\n",
      "Requirement already satisfied: setuptools>=40.3.0 in c:\\users\\boinu\\anaconda3\\lib\\site-packages (from google-api-core[grpc]<2.0.0dev,>=1.22.2->google-cloud-speech) (41.0.1)\n",
      "Requirement already satisfied: googleapis-common-protos<2.0dev,>=1.6.0 in c:\\users\\boinu\\anaconda3\\lib\\site-packages (from google-api-core[grpc]<2.0.0dev,>=1.22.2->google-cloud-speech) (1.53.0)\n",
      "Requirement already satisfied: six>=1.13.0 in c:\\users\\boinu\\anaconda3\\lib\\site-packages (from google-api-core[grpc]<2.0.0dev,>=1.22.2->google-cloud-speech) (1.15.0)\n",
      "Requirement already satisfied: packaging>=14.3 in c:\\users\\boinu\\anaconda3\\lib\\site-packages (from google-api-core[grpc]<2.0.0dev,>=1.22.2->google-cloud-speech) (19.0)\n",
      "Requirement already satisfied: pytz in c:\\users\\boinu\\anaconda3\\lib\\site-packages (from google-api-core[grpc]<2.0.0dev,>=1.22.2->google-cloud-speech) (2019.1)\n",
      "Requirement already satisfied: google-auth<2.0dev,>=1.21.1 in c:\\users\\boinu\\anaconda3\\lib\\site-packages (from google-api-core[grpc]<2.0.0dev,>=1.22.2->google-cloud-speech) (1.27.0)\n",
      "Requirement already satisfied: grpcio<2.0dev,>=1.29.0; extra == \"grpc\" in c:\\users\\boinu\\anaconda3\\lib\\site-packages (from google-api-core[grpc]<2.0.0dev,>=1.22.2->google-cloud-speech) (1.36.0)\n",
      "Collecting typing-extensions>=3.7.4.2 (from libcst>=0.2.5->google-cloud-speech)\n",
      "  Using cached https://files.pythonhosted.org/packages/60/7a/e881b5abb54db0e6e671ab088d079c57ce54e8a01a3ca443f561ccadb37e/typing_extensions-3.7.4.3-py3-none-any.whl\n",
      "Collecting pyyaml>=5.2 (from libcst>=0.2.5->google-cloud-speech)\n",
      "  Using cached https://files.pythonhosted.org/packages/66/7a/9f3a49dea61e98ac8bd3b6b619da4fcb59053232a6e11e9e865dab7c16e0/PyYAML-5.4.1-cp37-cp37m-win_amd64.whl\n",
      "Collecting typing-inspect>=0.4.0 (from libcst>=0.2.5->google-cloud-speech)\n",
      "  Using cached https://files.pythonhosted.org/packages/42/1c/66402db44184904a2f14722d317a4da0b5c8c78acfc3faf74362566635c5/typing_inspect-0.6.0-py3-none-any.whl\n",
      "Requirement already satisfied: chardet<3.1.0,>=3.0.2 in c:\\users\\boinu\\anaconda3\\lib\\site-packages (from requests<3.0.0dev,>=2.18.0->google-api-core[grpc]<2.0.0dev,>=1.22.2->google-cloud-speech) (3.0.4)\n",
      "Requirement already satisfied: certifi>=2017.4.17 in c:\\users\\boinu\\anaconda3\\lib\\site-packages (from requests<3.0.0dev,>=2.18.0->google-api-core[grpc]<2.0.0dev,>=1.22.2->google-cloud-speech) (2019.6.16)\n",
      "Requirement already satisfied: urllib3!=1.25.0,!=1.25.1,<1.26,>=1.21.1 in c:\\users\\boinu\\anaconda3\\lib\\site-packages (from requests<3.0.0dev,>=2.18.0->google-api-core[grpc]<2.0.0dev,>=1.22.2->google-cloud-speech) (1.24.2)\n",
      "Requirement already satisfied: idna<2.9,>=2.5 in c:\\users\\boinu\\anaconda3\\lib\\site-packages (from requests<3.0.0dev,>=2.18.0->google-api-core[grpc]<2.0.0dev,>=1.22.2->google-cloud-speech) (2.8)\n",
      "Requirement already satisfied: pyparsing>=2.0.2 in c:\\users\\boinu\\anaconda3\\lib\\site-packages (from packaging>=14.3->google-api-core[grpc]<2.0.0dev,>=1.22.2->google-cloud-speech) (2.4.0)\n",
      "Requirement already satisfied: cachetools<5.0,>=2.0.0 in c:\\users\\boinu\\anaconda3\\lib\\site-packages (from google-auth<2.0dev,>=1.21.1->google-api-core[grpc]<2.0.0dev,>=1.22.2->google-cloud-speech) (4.2.1)\n",
      "Requirement already satisfied: rsa<5,>=3.1.4; python_version >= \"3.6\" in c:\\users\\boinu\\anaconda3\\lib\\site-packages (from google-auth<2.0dev,>=1.21.1->google-api-core[grpc]<2.0.0dev,>=1.22.2->google-cloud-speech) (4.7.2)\n",
      "Requirement already satisfied: pyasn1-modules>=0.2.1 in c:\\users\\boinu\\anaconda3\\lib\\site-packages (from google-auth<2.0dev,>=1.21.1->google-api-core[grpc]<2.0.0dev,>=1.22.2->google-cloud-speech) (0.2.8)\n",
      "Collecting mypy-extensions>=0.3.0 (from typing-inspect>=0.4.0->libcst>=0.2.5->google-cloud-speech)\n",
      "  Using cached https://files.pythonhosted.org/packages/5c/eb/975c7c080f3223a5cdaff09612f3a5221e4ba534f7039db34c35d95fa6a5/mypy_extensions-0.4.3-py2.py3-none-any.whl\n",
      "Requirement already satisfied: pyasn1>=0.1.3 in c:\\users\\boinu\\anaconda3\\lib\\site-packages (from rsa<5,>=3.1.4; python_version >= \"3.6\"->google-auth<2.0dev,>=1.21.1->google-api-core[grpc]<2.0.0dev,>=1.22.2->google-cloud-speech) (0.4.8)\n",
      "Installing collected packages: proto-plus, typing-extensions, pyyaml, mypy-extensions, typing-inspect, libcst, google-cloud-speech\n",
      "  Found existing installation: PyYAML 5.1.1\n",
      "Note: you may need to restart the kernel to use updated packages.\n"
     ]
    },
    {
     "name": "stderr",
     "output_type": "stream",
     "text": [
      "ERROR: Cannot uninstall 'PyYAML'. It is a distutils installed project and thus we cannot accurately determine which files belong to it which would lead to only a partial uninstall.\n"
     ]
    }
   ],
   "source": [
    "pip install google-cloud-speech"
   ]
  },
  {
   "cell_type": "code",
   "execution_count": 4,
   "metadata": {},
   "outputs": [
    {
     "name": "stdout",
     "output_type": "stream",
     "text": [
      "Requirement already satisfied: SpeechRecognition in c:\\users\\boinu\\anaconda3\\lib\\site-packages (3.6.3)\n",
      "Note: you may need to restart the kernel to use updated packages.\n"
     ]
    }
   ],
   "source": [
    "pip install SpeechRecognition"
   ]
  },
  {
   "cell_type": "code",
   "execution_count": 5,
   "metadata": {},
   "outputs": [
    {
     "name": "stdout",
     "output_type": "stream",
     "text": [
      "Collecting Pocketsphinx\n",
      "  Using cached https://files.pythonhosted.org/packages/cd/4a/adea55f189a81aed88efa0b0e1d25628e5ed22622ab9174bf696dd4f9474/pocketsphinx-0.1.15.tar.gz\n",
      "Building wheels for collected packages: Pocketsphinx\n",
      "  Building wheel for Pocketsphinx (setup.py): started\n",
      "  Building wheel for Pocketsphinx (setup.py): finished with status 'error'\n",
      "  Running setup.py clean for Pocketsphinx\n",
      "Failed to build Pocketsphinx\n",
      "Installing collected packages: Pocketsphinx\n",
      "  Running setup.py install for Pocketsphinx: started\n",
      "    Running setup.py install for Pocketsphinx: finished with status 'error'\n",
      "Note: you may need to restart the kernel to use updated packages.\n"
     ]
    },
    {
     "name": "stderr",
     "output_type": "stream",
     "text": [
      "  ERROR: Complete output from command 'C:\\Users\\Boinu\\Anaconda3\\python.exe' -u -c 'import setuptools, tokenize;__file__='\"'\"'C:\\\\Users\\\\Boinu\\\\AppData\\\\Local\\\\Temp\\\\pip-install-zbckue8g\\\\Pocketsphinx\\\\setup.py'\"'\"';f=getattr(tokenize, '\"'\"'open'\"'\"', open)(__file__);code=f.read().replace('\"'\"'\\r\\n'\"'\"', '\"'\"'\\n'\"'\"');f.close();exec(compile(code, __file__, '\"'\"'exec'\"'\"'))' bdist_wheel -d 'C:\\Users\\Boinu\\AppData\\Local\\Temp\\pip-wheel-o0bqfycr' --python-tag cp37:\n",
      "  ERROR: running bdist_wheel\n",
      "  running build_ext\n",
      "  building 'sphinxbase._sphinxbase' extension\n",
      "  swigging deps/sphinxbase/swig/sphinxbase.i to deps/sphinxbase/swig/sphinxbase_wrap.c\n",
      "  swig.exe -python -modern -threads -Ideps/sphinxbase/include -Ideps/sphinxbase/include/sphinxbase -Ideps/sphinxbase/include/win32 -Ideps/sphinxbase/swig -outdir sphinxbase -o deps/sphinxbase/swig/sphinxbase_wrap.c deps/sphinxbase/swig/sphinxbase.i\n",
      "  error: command 'swig.exe' failed: No such file or directory\n",
      "  ----------------------------------------\n",
      "  ERROR: Failed building wheel for Pocketsphinx\n",
      "    ERROR: Complete output from command 'C:\\Users\\Boinu\\Anaconda3\\python.exe' -u -c 'import setuptools, tokenize;__file__='\"'\"'C:\\\\Users\\\\Boinu\\\\AppData\\\\Local\\\\Temp\\\\pip-install-zbckue8g\\\\Pocketsphinx\\\\setup.py'\"'\"';f=getattr(tokenize, '\"'\"'open'\"'\"', open)(__file__);code=f.read().replace('\"'\"'\\r\\n'\"'\"', '\"'\"'\\n'\"'\"');f.close();exec(compile(code, __file__, '\"'\"'exec'\"'\"'))' install --record 'C:\\Users\\Boinu\\AppData\\Local\\Temp\\pip-record-qjiauf7w\\install-record.txt' --single-version-externally-managed --compile:\n",
      "    ERROR: running install\n",
      "    running build_ext\n",
      "    building 'sphinxbase._sphinxbase' extension\n",
      "    swigging deps/sphinxbase/swig/sphinxbase.i to deps/sphinxbase/swig/sphinxbase_wrap.c\n",
      "    swig.exe -python -modern -threads -Ideps/sphinxbase/include -Ideps/sphinxbase/include/sphinxbase -Ideps/sphinxbase/include/win32 -Ideps/sphinxbase/swig -outdir sphinxbase -o deps/sphinxbase/swig/sphinxbase_wrap.c deps/sphinxbase/swig/sphinxbase.i\n",
      "    error: command 'swig.exe' failed: No such file or directory\n",
      "    ----------------------------------------\n",
      "ERROR: Command \"'C:\\Users\\Boinu\\Anaconda3\\python.exe' -u -c 'import setuptools, tokenize;__file__='\"'\"'C:\\\\Users\\\\Boinu\\\\AppData\\\\Local\\\\Temp\\\\pip-install-zbckue8g\\\\Pocketsphinx\\\\setup.py'\"'\"';f=getattr(tokenize, '\"'\"'open'\"'\"', open)(__file__);code=f.read().replace('\"'\"'\\r\\n'\"'\"', '\"'\"'\\n'\"'\"');f.close();exec(compile(code, __file__, '\"'\"'exec'\"'\"'))' install --record 'C:\\Users\\Boinu\\AppData\\Local\\Temp\\pip-record-qjiauf7w\\install-record.txt' --single-version-externally-managed --compile\" failed with error code 1 in C:\\Users\\Boinu\\AppData\\Local\\Temp\\pip-install-zbckue8g\\Pocketsphinx\\\n"
     ]
    }
   ],
   "source": [
    "pip install Pocketsphinx"
   ]
  },
  {
   "cell_type": "code",
   "execution_count": 6,
   "metadata": {},
   "outputs": [
    {
     "name": "stdout",
     "output_type": "stream",
     "text": [
      "Requirement already satisfied: Watson-developer-cloud in c:\\users\\boinu\\anaconda3\\lib\\site-packages (2.10.1)\n",
      "Requirement already satisfied: requests<3.0,>=2.0 in c:\\users\\boinu\\anaconda3\\lib\\site-packages (from Watson-developer-cloud) (2.22.0)\n",
      "Requirement already satisfied: python-dateutil>=2.5.3 in c:\\users\\boinu\\anaconda3\\lib\\site-packages (from Watson-developer-cloud) (2.8.0)\n",
      "Requirement already satisfied: websocket-client==0.48.0 in c:\\users\\boinu\\anaconda3\\lib\\site-packages (from Watson-developer-cloud) (0.48.0)\n",
      "Requirement already satisfied: idna<2.9,>=2.5 in c:\\users\\boinu\\anaconda3\\lib\\site-packages (from requests<3.0,>=2.0->Watson-developer-cloud) (2.8)\n",
      "Requirement already satisfied: chardet<3.1.0,>=3.0.2 in c:\\users\\boinu\\anaconda3\\lib\\site-packages (from requests<3.0,>=2.0->Watson-developer-cloud) (3.0.4)\n",
      "Requirement already satisfied: certifi>=2017.4.17 in c:\\users\\boinu\\anaconda3\\lib\\site-packages (from requests<3.0,>=2.0->Watson-developer-cloud) (2019.6.16)\n",
      "Requirement already satisfied: urllib3!=1.25.0,!=1.25.1,<1.26,>=1.21.1 in c:\\users\\boinu\\anaconda3\\lib\\site-packages (from requests<3.0,>=2.0->Watson-developer-cloud) (1.24.2)\n",
      "Requirement already satisfied: six>=1.5 in c:\\users\\boinu\\anaconda3\\lib\\site-packages (from python-dateutil>=2.5.3->Watson-developer-cloud) (1.15.0)\n",
      "Note: you may need to restart the kernel to use updated packages.\n"
     ]
    }
   ],
   "source": [
    "pip install Watson-developer-cloud"
   ]
  },
  {
   "cell_type": "code",
   "execution_count": 7,
   "metadata": {},
   "outputs": [
    {
     "name": "stdout",
     "output_type": "stream",
     "text": [
      "Requirement already satisfied: wit in c:\\users\\boinu\\anaconda3\\lib\\site-packages (6.0.0)\n",
      "Requirement already satisfied: requests>=0.8.8 in c:\\users\\boinu\\anaconda3\\lib\\site-packages (from wit) (2.22.0)\n",
      "Requirement already satisfied: prompt-toolkit in c:\\users\\boinu\\anaconda3\\lib\\site-packages (from wit) (2.0.9)\n",
      "Requirement already satisfied: idna<2.9,>=2.5 in c:\\users\\boinu\\anaconda3\\lib\\site-packages (from requests>=0.8.8->wit) (2.8)\n",
      "Requirement already satisfied: certifi>=2017.4.17 in c:\\users\\boinu\\anaconda3\\lib\\site-packages (from requests>=0.8.8->wit) (2019.6.16)\n",
      "Requirement already satisfied: chardet<3.1.0,>=3.0.2 in c:\\users\\boinu\\anaconda3\\lib\\site-packages (from requests>=0.8.8->wit) (3.0.4)\n",
      "Requirement already satisfied: urllib3!=1.25.0,!=1.25.1,<1.26,>=1.21.1 in c:\\users\\boinu\\anaconda3\\lib\\site-packages (from requests>=0.8.8->wit) (1.24.2)\n",
      "Requirement already satisfied: six>=1.9.0 in c:\\users\\boinu\\anaconda3\\lib\\site-packages (from prompt-toolkit->wit) (1.15.0)\n",
      "Requirement already satisfied: wcwidth in c:\\users\\boinu\\anaconda3\\lib\\site-packages (from prompt-toolkit->wit) (0.1.7)\n",
      "Note: you may need to restart the kernel to use updated packages.\n"
     ]
    }
   ],
   "source": [
    "pip install wit"
   ]
  },
  {
   "cell_type": "code",
   "execution_count": 15,
   "metadata": {},
   "outputs": [
    {
     "ename": "SyntaxError",
     "evalue": "invalid syntax (<ipython-input-15-0f296faeda7a>, line 1)",
     "output_type": "error",
     "traceback": [
      "\u001b[1;36m  File \u001b[1;32m\"<ipython-input-15-0f296faeda7a>\"\u001b[1;36m, line \u001b[1;32m1\u001b[0m\n\u001b[1;33m    import speech recognition as sr\u001b[0m\n\u001b[1;37m                            ^\u001b[0m\n\u001b[1;31mSyntaxError\u001b[0m\u001b[1;31m:\u001b[0m invalid syntax\n"
     ]
    }
   ],
   "source": [
    "import speech recognition as sr\n",
    "import webbrowser\n",
    "\n",
    "r1 = sr.Recognizer()\n",
    "r2 = sr.Recognizer()\n",
    "r3 = sr.Recognizer()\n",
    "\n",
    "with sr.Microphone() as source:\n",
    "    print('[search edureka: search youtube]')\n",
    "    print('speak now')\n",
    "    audio = r3.listen(source)\n",
    "    \n",
    "    if 'edureka' in r2.recognize_google(audio):\n",
    "        r2 = sr.Recognizer()\n",
    "        url = 'https://www.edureka.co/data-science-python-certification-course'\n",
    "        with sr.Microphone() as source:\n",
    "            print('search your query')\n",
    "            audio = r2.listen(source)\n",
    "            \n",
    "            try:\n",
    "                get = r2.recognize_google(audio)\n",
    "                print(get)\n",
    "                wb.get().open_new(url+get)\n",
    "            except sr.UnknownValueError:\n",
    "                print('error')\n",
    "            except sr.RequestError as e:\n",
    "                print('failed'.format(e))\n",
    "        "
   ]
  },
  {
   "cell_type": "code",
   "execution_count": null,
   "metadata": {},
   "outputs": [],
   "source": []
  }
 ],
 "metadata": {
  "kernelspec": {
   "display_name": "Python 3",
   "language": "python",
   "name": "python3"
  },
  "language_info": {
   "codemirror_mode": {
    "name": "ipython",
    "version": 3
   },
   "file_extension": ".py",
   "mimetype": "text/x-python",
   "name": "python",
   "nbconvert_exporter": "python",
   "pygments_lexer": "ipython3",
   "version": "3.7.3"
  }
 },
 "nbformat": 4,
 "nbformat_minor": 2
}

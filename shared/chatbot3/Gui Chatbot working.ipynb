{
 "cells": [
  {
   "cell_type": "code",
   "execution_count": 8,
   "metadata": {},
   "outputs": [
    {
     "name": "stdout",
     "output_type": "stream",
     "text": [
      "Requirement already satisfied: nltk in /home/firedrake/anaconda3/envs/nicki/lib/python3.6/site-packages (3.5)\n",
      "Requirement already satisfied: tqdm in /home/firedrake/anaconda3/envs/nicki/lib/python3.6/site-packages (from nltk) (4.58.0)\n",
      "Requirement already satisfied: regex in /home/firedrake/anaconda3/envs/nicki/lib/python3.6/site-packages (from nltk) (2020.11.13)\n",
      "Requirement already satisfied: click in /home/firedrake/anaconda3/envs/nicki/lib/python3.6/site-packages (from nltk) (7.1.2)\n",
      "Requirement already satisfied: joblib in /home/firedrake/anaconda3/envs/nicki/lib/python3.6/site-packages (from nltk) (1.0.1)\n"
     ]
    }
   ],
   "source": [
    "!pip install nltk"
   ]
  },
  {
   "cell_type": "code",
   "execution_count": 9,
   "metadata": {
    "scrolled": true
   },
   "outputs": [
    {
     "name": "stdout",
     "output_type": "stream",
     "text": [
      "Requirement already satisfied: newspaper3k in /home/firedrake/anaconda3/envs/nicki/lib/python3.6/site-packages (0.2.8)\n",
      "Requirement already satisfied: Pillow>=3.3.0 in /home/firedrake/anaconda3/envs/nicki/lib/python3.6/site-packages (from newspaper3k) (8.1.1)\n",
      "Requirement already satisfied: feedfinder2>=0.0.4 in /home/firedrake/anaconda3/envs/nicki/lib/python3.6/site-packages (from newspaper3k) (0.0.4)\n",
      "Requirement already satisfied: beautifulsoup4>=4.4.1 in /home/firedrake/anaconda3/envs/nicki/lib/python3.6/site-packages (from newspaper3k) (4.9.3)\n",
      "Requirement already satisfied: feedparser>=5.2.1 in /home/firedrake/anaconda3/envs/nicki/lib/python3.6/site-packages (from newspaper3k) (6.0.2)\n",
      "Requirement already satisfied: nltk>=3.2.1 in /home/firedrake/anaconda3/envs/nicki/lib/python3.6/site-packages (from newspaper3k) (3.5)\n",
      "Requirement already satisfied: cssselect>=0.9.2 in /home/firedrake/anaconda3/envs/nicki/lib/python3.6/site-packages (from newspaper3k) (1.1.0)\n",
      "Requirement already satisfied: requests>=2.10.0 in /home/firedrake/anaconda3/envs/nicki/lib/python3.6/site-packages (from newspaper3k) (2.25.1)\n",
      "Requirement already satisfied: tldextract>=2.0.1 in /home/firedrake/anaconda3/envs/nicki/lib/python3.6/site-packages (from newspaper3k) (3.1.0)\n",
      "Requirement already satisfied: python-dateutil>=2.5.3 in /home/firedrake/anaconda3/envs/nicki/lib/python3.6/site-packages (from newspaper3k) (2.8.1)\n",
      "Requirement already satisfied: tinysegmenter==0.3 in /home/firedrake/anaconda3/envs/nicki/lib/python3.6/site-packages (from newspaper3k) (0.3)\n",
      "Requirement already satisfied: lxml>=3.6.0 in /home/firedrake/anaconda3/envs/nicki/lib/python3.6/site-packages (from newspaper3k) (4.6.2)\n",
      "Requirement already satisfied: PyYAML>=3.11 in /home/firedrake/anaconda3/envs/nicki/lib/python3.6/site-packages (from newspaper3k) (5.4.1)\n",
      "Requirement already satisfied: jieba3k>=0.35.1 in /home/firedrake/anaconda3/envs/nicki/lib/python3.6/site-packages (from newspaper3k) (0.35.1)\n",
      "Requirement already satisfied: soupsieve>1.2 in /home/firedrake/anaconda3/envs/nicki/lib/python3.6/site-packages (from beautifulsoup4>=4.4.1->newspaper3k) (2.2)\n",
      "Requirement already satisfied: six in /home/firedrake/anaconda3/envs/nicki/lib/python3.6/site-packages (from feedfinder2>=0.0.4->newspaper3k) (1.15.0)\n",
      "Requirement already satisfied: sgmllib3k in /home/firedrake/anaconda3/envs/nicki/lib/python3.6/site-packages (from feedparser>=5.2.1->newspaper3k) (1.0.0)\n",
      "Requirement already satisfied: tqdm in /home/firedrake/anaconda3/envs/nicki/lib/python3.6/site-packages (from nltk>=3.2.1->newspaper3k) (4.58.0)\n",
      "Requirement already satisfied: regex in /home/firedrake/anaconda3/envs/nicki/lib/python3.6/site-packages (from nltk>=3.2.1->newspaper3k) (2020.11.13)\n",
      "Requirement already satisfied: joblib in /home/firedrake/anaconda3/envs/nicki/lib/python3.6/site-packages (from nltk>=3.2.1->newspaper3k) (1.0.1)\n",
      "Requirement already satisfied: click in /home/firedrake/anaconda3/envs/nicki/lib/python3.6/site-packages (from nltk>=3.2.1->newspaper3k) (7.1.2)\n",
      "Requirement already satisfied: urllib3<1.27,>=1.21.1 in /home/firedrake/anaconda3/envs/nicki/lib/python3.6/site-packages (from requests>=2.10.0->newspaper3k) (1.26.3)\n",
      "Requirement already satisfied: chardet<5,>=3.0.2 in /home/firedrake/anaconda3/envs/nicki/lib/python3.6/site-packages (from requests>=2.10.0->newspaper3k) (4.0.0)\n",
      "Requirement already satisfied: certifi>=2017.4.17 in /home/firedrake/anaconda3/envs/nicki/lib/python3.6/site-packages (from requests>=2.10.0->newspaper3k) (2020.12.5)\n",
      "Requirement already satisfied: idna<3,>=2.5 in /home/firedrake/anaconda3/envs/nicki/lib/python3.6/site-packages (from requests>=2.10.0->newspaper3k) (2.10)\n",
      "Requirement already satisfied: filelock>=3.0.8 in /home/firedrake/anaconda3/envs/nicki/lib/python3.6/site-packages (from tldextract>=2.0.1->newspaper3k) (3.0.12)\n",
      "Requirement already satisfied: requests-file>=1.4 in /home/firedrake/anaconda3/envs/nicki/lib/python3.6/site-packages (from tldextract>=2.0.1->newspaper3k) (1.5.1)\n"
     ]
    }
   ],
   "source": [
    "!pip install newspaper3k"
   ]
  },
  {
   "cell_type": "code",
   "execution_count": 11,
   "metadata": {},
   "outputs": [
    {
     "name": "stdout",
     "output_type": "stream",
     "text": [
      "Collecting sklearn\n",
      "  Downloading sklearn-0.0.tar.gz (1.1 kB)\n",
      "Collecting scikit-learn\n",
      "  Downloading scikit_learn-0.24.1-cp36-cp36m-manylinux2010_x86_64.whl (22.2 MB)\n",
      "\u001b[K     |████████████████████████████████| 22.2 MB 711 kB/s eta 0:00:01\n",
      "\u001b[?25hRequirement already satisfied: joblib>=0.11 in /home/firedrake/anaconda3/envs/nicki/lib/python3.6/site-packages (from scikit-learn->sklearn) (1.0.1)\n",
      "Requirement already satisfied: numpy>=1.13.3 in /home/firedrake/anaconda3/envs/nicki/lib/python3.6/site-packages (from scikit-learn->sklearn) (1.19.5)\n",
      "Collecting scipy>=0.19.1\n",
      "  Downloading scipy-1.5.4-cp36-cp36m-manylinux1_x86_64.whl (25.9 MB)\n",
      "\u001b[K     |████████████████████████████████| 25.9 MB 598 kB/s eta 0:00:01     |█████████████████████           | 17.0 MB 511 kB/s eta 0:00:18\n",
      "\u001b[?25hCollecting threadpoolctl>=2.0.0\n",
      "  Downloading threadpoolctl-2.1.0-py3-none-any.whl (12 kB)\n",
      "Building wheels for collected packages: sklearn\n",
      "  Building wheel for sklearn (setup.py) ... \u001b[?25ldone\n",
      "\u001b[?25h  Created wheel for sklearn: filename=sklearn-0.0-py2.py3-none-any.whl size=1316 sha256=361bcabc5e76ef8ae44fc3224334ecdf90f95b505ba4788db9cbd1ebbf5939ce\n",
      "  Stored in directory: /home/firedrake/.cache/pip/wheels/23/9d/42/5ec745cbbb17517000a53cecc49d6a865450d1f5cb16dc8a9c\n",
      "Successfully built sklearn\n",
      "Installing collected packages: threadpoolctl, scipy, scikit-learn, sklearn\n",
      "Successfully installed scikit-learn-0.24.1 scipy-1.5.4 sklearn-0.0 threadpoolctl-2.1.0\n"
     ]
    }
   ],
   "source": [
    "!pip install sklearn"
   ]
  },
  {
   "cell_type": "code",
   "execution_count": 12,
   "metadata": {},
   "outputs": [
    {
     "name": "stdout",
     "output_type": "stream",
     "text": [
      "\u001b[31mERROR: Could not find a version that satisfies the requirement punkt\u001b[0m\n",
      "\u001b[31mERROR: No matching distribution found for punkt\u001b[0m\n"
     ]
    }
   ],
   "source": [
    "!pip install punkt"
   ]
  },
  {
   "cell_type": "code",
   "execution_count": 22,
   "metadata": {},
   "outputs": [],
   "source": [
    "from newspaper import Article\n",
    "import random\n",
    "import string\n",
    "import nltk\n",
    "from sklearn.feature_extraction.text import CountVectorizer\n",
    "from sklearn.metrics.pairwise import cosine_similarity\n",
    "import numpy as np\n",
    "import warnings\n",
    "warnings.filterwarnings('ignore')"
   ]
  },
  {
   "cell_type": "code",
   "execution_count": 23,
   "metadata": {},
   "outputs": [
    {
     "data": {
      "text/plain": [
       "True"
      ]
     },
     "execution_count": 23,
     "metadata": {},
     "output_type": "execute_result"
    }
   ],
   "source": [
    "nltk.download('punkt', quiet=True)"
   ]
  },
  {
   "cell_type": "code",
   "execution_count": 24,
   "metadata": {},
   "outputs": [
    {
     "data": {
      "text/plain": [
       "True"
      ]
     },
     "execution_count": 24,
     "metadata": {},
     "output_type": "execute_result"
    }
   ],
   "source": [
    "True"
   ]
  },
  {
   "cell_type": "code",
   "execution_count": 25,
   "metadata": {},
   "outputs": [
    {
     "name": "stdout",
     "output_type": "stream",
     "text": [
      "Overview\n",
      "\n",
      "Breast anatomy Open pop-up dialog box Close Breast anatomy Breast anatomy Each breast contains 15 to 20 lobes of glandular tissue, arranged like the petals of a daisy. The lobes are further divided into smaller lobules that produce milk for breast-feeding. Small tubes (ducts) conduct the milk to a reservoir that lies just beneath your nipple.\n",
      "\n",
      "Breast cancer is cancer that forms in the cells of the breasts.\n",
      "\n",
      "After skin cancer, breast cancer is the most common cancer diagnosed in women in the United States. Breast cancer can occur in both men and women, but it's far more common in women.\n",
      "\n",
      "Substantial support for breast cancer awareness and research funding has helped created advances in the diagnosis and treatment of breast cancer. Breast cancer survival rates have increased, and the number of deaths associated with this disease is steadily declining, largely due to factors such as earlier detection, a new personalized approach to treatment and a better understanding of the disease.\n",
      "\n",
      "Breast cancer care at Mayo Clinic\n",
      "\n",
      "Types\n",
      "\n",
      "Symptoms\n",
      "\n",
      "Nipple changes Open pop-up dialog box Close Nipple changes Nipple changes Breast and nipple changes can be a sign of breast cancer. Make an appointment with your doctor if you notice anything unusual.\n",
      "\n",
      "Signs and symptoms of breast cancer may include:\n",
      "\n",
      "A breast lump or thickening that feels different from the surrounding tissue\n",
      "\n",
      "Change in the size, shape or appearance of a breast\n",
      "\n",
      "Changes to the skin over the breast, such as dimpling\n",
      "\n",
      "A newly inverted nipple\n",
      "\n",
      "Peeling, scaling, crusting or flaking of the pigmented area of skin surrounding the nipple (areola) or breast skin\n",
      "\n",
      "Redness or pitting of the skin over your breast, like the skin of an orange\n",
      "\n",
      "When to see a doctor\n",
      "\n",
      "If you find a lump or other change in your breast — even if a recent mammogram was normal — make an appointment with your doctor for prompt evaluation.\n",
      "\n",
      "Causes\n",
      "\n",
      "Doctors know that breast cancer occurs when some breast cells begin to grow abnormally. These cells divide more rapidly than healthy cells do and continue to accumulate, forming a lump or mass. Cells may spread (metastasize) through your breast to your lymph nodes or to other parts of your body.\n",
      "\n",
      "Breast cancer most often begins with cells in the milk-producing ducts (invasive ductal carcinoma). Breast cancer may also begin in the glandular tissue called lobules (invasive lobular carcinoma) or in other cells or tissue within the breast.\n",
      "\n",
      "Researchers have identified hormonal, lifestyle and environmental factors that may increase your risk of breast cancer. But it's not clear why some people who have no risk factors develop cancer, yet other people with risk factors never do. It's likely that breast cancer is caused by a complex interaction of your genetic makeup and your environment.\n",
      "\n",
      "Inherited breast cancer\n",
      "\n",
      "Doctors estimate that about 5 to 10 percent of breast cancers are linked to gene mutations passed through generations of a family.\n",
      "\n",
      "A number of inherited mutated genes that can increase the likelihood of breast cancer have been identified. The most well-known are breast cancer gene 1 (BRCA1) and breast cancer gene 2 (BRCA2), both of which significantly increase the risk of both breast and ovarian cancer.\n",
      "\n",
      "If you have a strong family history of breast cancer or other cancers, your doctor may recommend a blood test to help identify specific mutations in BRCA or other genes that are being passed through your family.\n",
      "\n",
      "Consider asking your doctor for a referral to a genetic counselor, who can review your family health history. A genetic counselor can also discuss the benefits, risks and limitations of genetic testing to assist you with shared decision-making.\n",
      "\n",
      "Risk factors\n",
      "\n",
      "A breast cancer risk factor is anything that makes it more likely you'll get breast cancer. But having one or even several breast cancer risk factors doesn't necessarily mean you'll develop breast cancer. Many women who develop breast cancer have no known risk factors other than simply being women.\n",
      "\n",
      "Factors that are associated with an increased risk of breast cancer include:\n",
      "\n",
      "Being female. Women are much more likely than men are to develop breast cancer.\n",
      "\n",
      "Women are much more likely than men are to develop breast cancer. Increasing age. Your risk of breast cancer increases as you age.\n",
      "\n",
      "Your risk of breast cancer increases as you age. A personal history of breast conditions. If you've had a breast biopsy that found lobular carcinoma in situ (LCIS) or atypical hyperplasia of the breast, you have an increased risk of breast cancer.\n",
      "\n",
      "If you've had a breast biopsy that found lobular carcinoma in situ (LCIS) or atypical hyperplasia of the breast, you have an increased risk of breast cancer. A personal history of breast cancer. If you've had breast cancer in one breast, you have an increased risk of developing cancer in the other breast.\n",
      "\n",
      "If you've had breast cancer in one breast, you have an increased risk of developing cancer in the other breast. A family history of breast cancer. If your mother, sister or daughter was diagnosed with breast cancer, particularly at a young age, your risk of breast cancer is increased. Still, the majority of people diagnosed with breast cancer have no family history of the disease.\n",
      "\n",
      "If your mother, sister or daughter was diagnosed with breast cancer, particularly at a young age, your risk of breast cancer is increased. Still, the majority of people diagnosed with breast cancer have no family history of the disease. Inherited genes that increase cancer risk. Certain gene mutations that increase the risk of breast cancer can be passed from parents to children. The most well-known gene mutations are referred to as BRCA1 and BRCA2. These genes can greatly increase your risk of breast cancer and other cancers, but they don't make cancer inevitable.\n",
      "\n",
      "Certain gene mutations that increase the risk of breast cancer can be passed from parents to children. The most well-known gene mutations are referred to as BRCA1 and BRCA2. These genes can greatly increase your risk of breast cancer and other cancers, but they don't make cancer inevitable. Radiation exposure. If you received radiation treatments to your chest as a child or young adult, your risk of breast cancer is increased.\n",
      "\n",
      "If you received radiation treatments to your chest as a child or young adult, your risk of breast cancer is increased. Obesity. Being obese increases your risk of breast cancer.\n",
      "\n",
      "Being obese increases your risk of breast cancer. Beginning your period at a younger age. Beginning your period before age 12 increases your risk of breast cancer.\n",
      "\n",
      "Beginning your period before age 12 increases your risk of breast cancer. Beginning menopause at an older age. If you began menopause at an older age, you're more likely to develop breast cancer.\n",
      "\n",
      "If you began menopause at an older age, you're more likely to develop breast cancer. Having your first child at an older age. Women who give birth to their first child after age 30 may have an increased risk of breast cancer.\n",
      "\n",
      "Women who give birth to their first child after age 30 may have an increased risk of breast cancer. Having never been pregnant. Women who have never been pregnant have a greater risk of breast cancer than do women who have had one or more pregnancies.\n",
      "\n",
      "Women who have never been pregnant have a greater risk of breast cancer than do women who have had one or more pregnancies. Postmenopausal hormone therapy. Women who take hormone therapy medications that combine estrogen and progesterone to treat the signs and symptoms of menopause have an increased risk of breast cancer. The risk of breast cancer decreases when women stop taking these medications.\n",
      "\n",
      "Women who take hormone therapy medications that combine estrogen and progesterone to treat the signs and symptoms of menopause have an increased risk of breast cancer. The risk of breast cancer decreases when women stop taking these medications. Drinking alcohol. Drinking alcohol increases the risk of breast cancer.\n",
      "\n",
      "Prevention\n",
      "\n",
      "Breast cancer risk reduction for women with an average risk\n",
      "\n",
      "Breast self-exam Open pop-up dialog box Close Breast self-exam Breast self-exam To perform a breast self-exam for breast awareness, use a methodical approach that ensures you cover your entire breast. For instance, imagine that your breasts are divided into equal wedges, like pieces of a pie, and sweep your fingers along each piece in toward your nipple.\n",
      "\n",
      "Making changes in your daily life may help reduce your risk of breast cancer. Try to:\n",
      "\n",
      "Ask your doctor about breast cancer screening. Discuss with your doctor when to begin breast cancer screening exams and tests, such as clinical breast exams and mammograms. Talk to your doctor about the benefits and risks of screening. Together, you can decide what breast cancer screening strategies are right for you.\n",
      "\n",
      "Become familiar with your breasts through breast self-exam for breast awareness. Women may choose to become familiar with their breasts by occasionally inspecting their breasts during a breast self-exam for breast awareness. If there is a new change, lumps or other unusual signs in your breasts, talk to your doctor promptly. Breast awareness can't prevent breast cancer, but it may help you to better understand the normal changes that your breasts undergo and identify any unusual signs and symptoms.\n",
      "\n",
      "Drink alcohol in moderation, if at all. Limit the amount of alcohol you drink to no more than one drink a day, if you choose to drink.\n",
      "\n",
      "Limit the amount of alcohol you drink to no more than one drink a day, if you choose to drink. Exercise most days of the week. Aim for at least 30 minutes of exercise on most days of the week. If you haven't been active lately, ask your doctor whether it's OK and start slowly.\n",
      "\n",
      "Aim for at least 30 minutes of exercise on most days of the week. If you haven't been active lately, ask your doctor whether it's OK and start slowly. Limit postmenopausal hormone therapy. Combination hormone therapy may increase the risk of breast cancer. Talk with your doctor about the benefits and risks of hormone therapy. Some women experience bothersome signs and symptoms during menopause and, for these women, the increased risk of breast cancer may be acceptable in order to relieve menopause signs and symptoms. To reduce the risk of breast cancer, use the lowest dose of hormone therapy possible for the shortest amount of time.\n",
      "\n",
      "Maintain a healthy weight. If your weight is healthy, work to maintain that weight. If you need to lose weight, ask your doctor about healthy strategies to accomplish this. Reduce the number of calories you eat each day and slowly increase the amount of exercise.\n",
      "\n",
      "If your weight is healthy, work to maintain that weight. If you need to lose weight, ask your doctor about healthy strategies to accomplish this. Reduce the number of calories you eat each day and slowly increase the amount of exercise. Choose a healthy diet. Women who eat a Mediterranean diet supplemented with extra-virgin olive oil and mixed nuts may have a reduced risk of breast cancer. The Mediterranean diet focuses mostly on plant-based foods, such as fruits and vegetables, whole grains, legumes, and nuts. People who follow the Mediterranean diet choose healthy fats, such as olive oil, over butter and fish instead of red meat.\n",
      "\n",
      "Breast cancer risk reduction for women with a high risk\n",
      "\n",
      "If your doctor has assessed your family history and determined that you have other factors, such as a precancerous breast condition, that increase your risk of breast cancer, you may discuss options to reduce your risk, such as:\n"
     ]
    }
   ],
   "source": [
    "article = Article('https://www.mayoclinic.org/diseases-conditions/breast-cancer/symptoms-causes/syc-20352470')\n",
    "article.download()\n",
    "article.parse()\n",
    "article.nlp()\n",
    "corpus = article.text\n",
    "print(corpus)"
   ]
  },
  {
   "cell_type": "code",
   "execution_count": 26,
   "metadata": {},
   "outputs": [
    {
     "name": "stdout",
     "output_type": "stream",
     "text": [
      "['Overview\\n\\nBreast anatomy Open pop-up dialog box Close Breast anatomy Breast anatomy Each breast contains 15 to 20 lobes of glandular tissue, arranged like the petals of a daisy.', 'The lobes are further divided into smaller lobules that produce milk for breast-feeding.', 'Small tubes (ducts) conduct the milk to a reservoir that lies just beneath your nipple.', 'Breast cancer is cancer that forms in the cells of the breasts.', 'After skin cancer, breast cancer is the most common cancer diagnosed in women in the United States.', \"Breast cancer can occur in both men and women, but it's far more common in women.\", 'Substantial support for breast cancer awareness and research funding has helped created advances in the diagnosis and treatment of breast cancer.', 'Breast cancer survival rates have increased, and the number of deaths associated with this disease is steadily declining, largely due to factors such as earlier detection, a new personalized approach to treatment and a better understanding of the disease.', 'Breast cancer care at Mayo Clinic\\n\\nTypes\\n\\nSymptoms\\n\\nNipple changes Open pop-up dialog box Close Nipple changes Nipple changes Breast and nipple changes can be a sign of breast cancer.', 'Make an appointment with your doctor if you notice anything unusual.', 'Signs and symptoms of breast cancer may include:\\n\\nA breast lump or thickening that feels different from the surrounding tissue\\n\\nChange in the size, shape or appearance of a breast\\n\\nChanges to the skin over the breast, such as dimpling\\n\\nA newly inverted nipple\\n\\nPeeling, scaling, crusting or flaking of the pigmented area of skin surrounding the nipple (areola) or breast skin\\n\\nRedness or pitting of the skin over your breast, like the skin of an orange\\n\\nWhen to see a doctor\\n\\nIf you find a lump or other change in your breast — even if a recent mammogram was normal — make an appointment with your doctor for prompt evaluation.', 'Causes\\n\\nDoctors know that breast cancer occurs when some breast cells begin to grow abnormally.', 'These cells divide more rapidly than healthy cells do and continue to accumulate, forming a lump or mass.', 'Cells may spread (metastasize) through your breast to your lymph nodes or to other parts of your body.', 'Breast cancer most often begins with cells in the milk-producing ducts (invasive ductal carcinoma).', 'Breast cancer may also begin in the glandular tissue called lobules (invasive lobular carcinoma) or in other cells or tissue within the breast.', 'Researchers have identified hormonal, lifestyle and environmental factors that may increase your risk of breast cancer.', \"But it's not clear why some people who have no risk factors develop cancer, yet other people with risk factors never do.\", \"It's likely that breast cancer is caused by a complex interaction of your genetic makeup and your environment.\", 'Inherited breast cancer\\n\\nDoctors estimate that about 5 to 10 percent of breast cancers are linked to gene mutations passed through generations of a family.', 'A number of inherited mutated genes that can increase the likelihood of breast cancer have been identified.', 'The most well-known are breast cancer gene 1 (BRCA1) and breast cancer gene 2 (BRCA2), both of which significantly increase the risk of both breast and ovarian cancer.', 'If you have a strong family history of breast cancer or other cancers, your doctor may recommend a blood test to help identify specific mutations in BRCA or other genes that are being passed through your family.', 'Consider asking your doctor for a referral to a genetic counselor, who can review your family health history.', 'A genetic counselor can also discuss the benefits, risks and limitations of genetic testing to assist you with shared decision-making.', \"Risk factors\\n\\nA breast cancer risk factor is anything that makes it more likely you'll get breast cancer.\", \"But having one or even several breast cancer risk factors doesn't necessarily mean you'll develop breast cancer.\", 'Many women who develop breast cancer have no known risk factors other than simply being women.', 'Factors that are associated with an increased risk of breast cancer include:\\n\\nBeing female.', 'Women are much more likely than men are to develop breast cancer.', 'Women are much more likely than men are to develop breast cancer.', 'Increasing age.', 'Your risk of breast cancer increases as you age.', 'Your risk of breast cancer increases as you age.', 'A personal history of breast conditions.', \"If you've had a breast biopsy that found lobular carcinoma in situ (LCIS) or atypical hyperplasia of the breast, you have an increased risk of breast cancer.\", \"If you've had a breast biopsy that found lobular carcinoma in situ (LCIS) or atypical hyperplasia of the breast, you have an increased risk of breast cancer.\", 'A personal history of breast cancer.', \"If you've had breast cancer in one breast, you have an increased risk of developing cancer in the other breast.\", \"If you've had breast cancer in one breast, you have an increased risk of developing cancer in the other breast.\", 'A family history of breast cancer.', 'If your mother, sister or daughter was diagnosed with breast cancer, particularly at a young age, your risk of breast cancer is increased.', 'Still, the majority of people diagnosed with breast cancer have no family history of the disease.', 'If your mother, sister or daughter was diagnosed with breast cancer, particularly at a young age, your risk of breast cancer is increased.', 'Still, the majority of people diagnosed with breast cancer have no family history of the disease.', 'Inherited genes that increase cancer risk.', 'Certain gene mutations that increase the risk of breast cancer can be passed from parents to children.', 'The most well-known gene mutations are referred to as BRCA1 and BRCA2.', \"These genes can greatly increase your risk of breast cancer and other cancers, but they don't make cancer inevitable.\", 'Certain gene mutations that increase the risk of breast cancer can be passed from parents to children.', 'The most well-known gene mutations are referred to as BRCA1 and BRCA2.', \"These genes can greatly increase your risk of breast cancer and other cancers, but they don't make cancer inevitable.\", 'Radiation exposure.', 'If you received radiation treatments to your chest as a child or young adult, your risk of breast cancer is increased.', 'If you received radiation treatments to your chest as a child or young adult, your risk of breast cancer is increased.', 'Obesity.', 'Being obese increases your risk of breast cancer.', 'Being obese increases your risk of breast cancer.', 'Beginning your period at a younger age.', 'Beginning your period before age 12 increases your risk of breast cancer.', 'Beginning your period before age 12 increases your risk of breast cancer.', 'Beginning menopause at an older age.', \"If you began menopause at an older age, you're more likely to develop breast cancer.\", \"If you began menopause at an older age, you're more likely to develop breast cancer.\", 'Having your first child at an older age.', 'Women who give birth to their first child after age 30 may have an increased risk of breast cancer.', 'Women who give birth to their first child after age 30 may have an increased risk of breast cancer.', 'Having never been pregnant.', 'Women who have never been pregnant have a greater risk of breast cancer than do women who have had one or more pregnancies.', 'Women who have never been pregnant have a greater risk of breast cancer than do women who have had one or more pregnancies.', 'Postmenopausal hormone therapy.', 'Women who take hormone therapy medications that combine estrogen and progesterone to treat the signs and symptoms of menopause have an increased risk of breast cancer.', 'The risk of breast cancer decreases when women stop taking these medications.', 'Women who take hormone therapy medications that combine estrogen and progesterone to treat the signs and symptoms of menopause have an increased risk of breast cancer.', 'The risk of breast cancer decreases when women stop taking these medications.', 'Drinking alcohol.', 'Drinking alcohol increases the risk of breast cancer.', 'Prevention\\n\\nBreast cancer risk reduction for women with an average risk\\n\\nBreast self-exam Open pop-up dialog box Close Breast self-exam Breast self-exam To perform a breast self-exam for breast awareness, use a methodical approach that ensures you cover your entire breast.', 'For instance, imagine that your breasts are divided into equal wedges, like pieces of a pie, and sweep your fingers along each piece in toward your nipple.', 'Making changes in your daily life may help reduce your risk of breast cancer.', 'Try to:\\n\\nAsk your doctor about breast cancer screening.', 'Discuss with your doctor when to begin breast cancer screening exams and tests, such as clinical breast exams and mammograms.', 'Talk to your doctor about the benefits and risks of screening.', 'Together, you can decide what breast cancer screening strategies are right for you.', 'Become familiar with your breasts through breast self-exam for breast awareness.', 'Women may choose to become familiar with their breasts by occasionally inspecting their breasts during a breast self-exam for breast awareness.', 'If there is a new change, lumps or other unusual signs in your breasts, talk to your doctor promptly.', \"Breast awareness can't prevent breast cancer, but it may help you to better understand the normal changes that your breasts undergo and identify any unusual signs and symptoms.\", 'Drink alcohol in moderation, if at all.', 'Limit the amount of alcohol you drink to no more than one drink a day, if you choose to drink.', 'Limit the amount of alcohol you drink to no more than one drink a day, if you choose to drink.', 'Exercise most days of the week.', 'Aim for at least 30 minutes of exercise on most days of the week.', \"If you haven't been active lately, ask your doctor whether it's OK and start slowly.\", 'Aim for at least 30 minutes of exercise on most days of the week.', \"If you haven't been active lately, ask your doctor whether it's OK and start slowly.\", 'Limit postmenopausal hormone therapy.', 'Combination hormone therapy may increase the risk of breast cancer.', 'Talk with your doctor about the benefits and risks of hormone therapy.', 'Some women experience bothersome signs and symptoms during menopause and, for these women, the increased risk of breast cancer may be acceptable in order to relieve menopause signs and symptoms.', 'To reduce the risk of breast cancer, use the lowest dose of hormone therapy possible for the shortest amount of time.', 'Maintain a healthy weight.', 'If your weight is healthy, work to maintain that weight.', 'If you need to lose weight, ask your doctor about healthy strategies to accomplish this.', 'Reduce the number of calories you eat each day and slowly increase the amount of exercise.', 'If your weight is healthy, work to maintain that weight.', 'If you need to lose weight, ask your doctor about healthy strategies to accomplish this.', 'Reduce the number of calories you eat each day and slowly increase the amount of exercise.', 'Choose a healthy diet.', 'Women who eat a Mediterranean diet supplemented with extra-virgin olive oil and mixed nuts may have a reduced risk of breast cancer.', 'The Mediterranean diet focuses mostly on plant-based foods, such as fruits and vegetables, whole grains, legumes, and nuts.', 'People who follow the Mediterranean diet choose healthy fats, such as olive oil, over butter and fish instead of red meat.', 'Breast cancer risk reduction for women with a high risk\\n\\nIf your doctor has assessed your family history and determined that you have other factors, such as a precancerous breast condition, that increase your risk of breast cancer, you may discuss options to reduce your risk, such as:']\n"
     ]
    }
   ],
   "source": [
    "text = corpus\n",
    "sentence_list = nltk.sent_tokenize (text)\n",
    "print(sentence_list)"
   ]
  },
  {
   "cell_type": "code",
   "execution_count": 27,
   "metadata": {},
   "outputs": [],
   "source": [
    "def greeting_response(text):\n",
    "\n",
    "  text = text.lower()\n",
    "\n",
    "  bot_greetings = ['howdy', 'hi', 'hey']\n",
    "  user_greetings = ['hi', 'hello']\n",
    "\n",
    "  for word in text.split():\n",
    "   if word in user_greetings:\n",
    "    return random.choice(bot_greetings)"
   ]
  },
  {
   "cell_type": "code",
   "execution_count": 42,
   "metadata": {},
   "outputs": [
    {
     "ename": "IndentationError",
     "evalue": "unexpected indent (<ipython-input-42-31a39f9a8421>, line 4)",
     "output_type": "error",
     "traceback": [
      "\u001b[0;36m  File \u001b[0;32m\"<ipython-input-42-31a39f9a8421>\"\u001b[0;36m, line \u001b[0;32m4\u001b[0m\n\u001b[0;31m    x=list_var\u001b[0m\n\u001b[0m    ^\u001b[0m\n\u001b[0;31mIndentationError\u001b[0m\u001b[0;31m:\u001b[0m unexpected indent\n"
     ]
    }
   ],
   "source": [
    "def index_sort(list_var):\n",
    " length = len(list_var)\n",
    " list_index = list(range(0,length))\n",
    "    x=list_var\n",
    " for i in range(length):\n",
    "   for j in range(length):\n",
    "     if x[list_index[i]] > x[list_index[j]]:\n",
    "\n",
    "      temp = list_index[i]\n",
    "      list_index[i] = list_index[j]\n",
    "      list_index[j] = temp\n",
    "\n",
    " return list_index"
   ]
  },
  {
   "cell_type": "code",
   "execution_count": 38,
   "metadata": {},
   "outputs": [],
   "source": [
    "def bot_response(user_input):\n",
    "  user_input = user_input.lower()\n",
    "  sentence_list.append(user_input)\n",
    "  bot_response =''\n",
    "  cm = CountVectorizer().fit_transform(sentence_list)\n",
    "  similarity_scores = cosine_similarity(cm[-1],cm)\n",
    "  similarity_scores_list = similarity_scores.flatten()\n",
    "  index = index_sort (similarity_scores_list)\n",
    "  index = index[1:]\n",
    "  response_flag = 0\n",
    "\n",
    "  j =0\n",
    "\n",
    "  for i in range(len(index)):\n",
    "    if similarity_scores_list[index[i]] > 0.0:\n",
    "      bot_response = bot_response+' '+sentence_list[index[i]]\n",
    "      response_flag = 1\n",
    "      j = j+1\n",
    "\n",
    "    if j> 2:\n",
    "      break\n",
    "\n",
    "    if response_flag == 0:\n",
    "      bot_response = bot_response+ ' '+\"I appologize, don't understand\"\n",
    "    sentence_list.remove(user_input)\n",
    "\n",
    "    return bot_response"
   ]
  },
  {
   "cell_type": "code",
   "execution_count": 39,
   "metadata": {},
   "outputs": [],
   "source": [
    "import tkinter\n",
    "from tkinter import *\n",
    "\n",
    "def send():\n",
    "    msg = EntryBox.get(\"1.0\",'end-1c').strip()\n",
    "    EntryBox.delete(\"0.0\",END)\n",
    "    exit_list =['exit','bye','break']\n",
    "    #if msg\n",
    "    if msg in exit_list:\n",
    "        res= 'Chat with You later'\n",
    "        ChatLog.insert(END, \"Bot: \" + res + '\\n\\n')\n",
    "\n",
    "        ChatLog.config(state=DISABLED)\n",
    "        ChatLog.yview(END)\n",
    "        \n",
    "    if greeting_response(msg) !=None:\n",
    "         \n",
    "        res = greeting_response(msg)\n",
    "        ChatLog.insert(END, \"Bot: \" + res + '\\n\\n')\n",
    "\n",
    "        ChatLog.config(state=DISABLED)\n",
    "        ChatLog.yview(END)\n",
    "    \n",
    "    if msg != '': \n",
    "        \n",
    "        ChatLog.config(state=NORMAL)\n",
    "        ChatLog.insert(END, \"You: \" + msg + '\\n\\n')\n",
    "        ChatLog.config(foreground=\"#442265\", font=(\"Verdana\", 12 ))\n",
    "\n",
    "        #res = chatbot_response(msg)\n",
    "        res = bot_response(msg)\n",
    "        ChatLog.insert(END, \"Bot: \" + res + '\\n\\n')\n",
    "\n",
    "        ChatLog.config(state=DISABLED)\n",
    "        ChatLog.yview(END)"
   ]
  },
  {
   "cell_type": "code",
   "execution_count": 31,
   "metadata": {},
   "outputs": [],
   "source": [
    "base = Tk()\n",
    "base.title(\"Hello Dear\")\n",
    "base.geometry(\"400x500\")\n",
    "base.resizable(width=FALSE, height=FALSE)\n",
    "\n",
    "#Create Chat window\n",
    "ChatLog = Text(base, bd=0, bg=\"white\", height=\"8\", width=\"50\", font=\"Arial\",)\n",
    "\n",
    "ChatLog.config(state=DISABLED)\n",
    "\n",
    "#Bind scrollbar to Chat window\n",
    "scrollbar = Scrollbar(base, command=ChatLog.yview, cursor=\"heart\")\n",
    "ChatLog['yscrollcommand'] = scrollbar.set\n",
    "\n",
    "#Create Button to send message\n",
    "SendButton = Button(base, font=(\"Verdana\",12,'bold'), text=\"Send\", width=\"12\", height=5,\n",
    "                    bd=0, bg=\"#32de97\", activebackground=\"#3c9d9b\",fg='#ffffff',\n",
    "                    command= send )"
   ]
  },
  {
   "cell_type": "code",
   "execution_count": 32,
   "metadata": {},
   "outputs": [
    {
     "name": "stderr",
     "output_type": "stream",
     "text": [
      "Exception in Tkinter callback\n",
      "Traceback (most recent call last):\n",
      "  File \"/home/firedrake/anaconda3/envs/nicki/lib/python3.6/tkinter/__init__.py\", line 1705, in __call__\n",
      "    return self.func(*args)\n",
      "  File \"<ipython-input-30-cfdfac172f35>\", line 31, in send\n",
      "    res = bot_response(msg)\n",
      "  File \"<ipython-input-29-a4ddadf1019c>\", line 8, in bot_response\n",
      "    index = index_sort (similarity_scores_list)\n",
      "  File \"<ipython-input-28-1a234d99a5b4>\", line 7, in index_sort\n",
      "    if x[list_index[i]] > x[list_index[j]]:\n",
      "NameError: name 'x' is not defined\n",
      "Exception in Tkinter callback\n",
      "Traceback (most recent call last):\n",
      "  File \"/home/firedrake/anaconda3/envs/nicki/lib/python3.6/tkinter/__init__.py\", line 1705, in __call__\n",
      "    return self.func(*args)\n",
      "  File \"<ipython-input-30-cfdfac172f35>\", line 31, in send\n",
      "    res = bot_response(msg)\n",
      "  File \"<ipython-input-29-a4ddadf1019c>\", line 8, in bot_response\n",
      "    index = index_sort (similarity_scores_list)\n",
      "  File \"<ipython-input-28-1a234d99a5b4>\", line 7, in index_sort\n",
      "    if x[list_index[i]] > x[list_index[j]]:\n",
      "NameError: name 'x' is not defined\n"
     ]
    }
   ],
   "source": [
    "#Create the box to enter message\n",
    "EntryBox = Text(base, bd=0, bg=\"white\",width=\"29\", height=\"5\", font=\"Arial\")\n",
    "#EntryBox.bind(\"<Return>\", send)\n",
    "\n",
    "\n",
    "#Place all components on the screen\n",
    "scrollbar.place(x=376,y=6, height=386)\n",
    "ChatLog.place(x=6,y=6, height=386, width=370)\n",
    "EntryBox.place(x=128, y=401, height=90, width=265)\n",
    "SendButton.place(x=6, y=401, height=90)\n",
    "\n",
    "base.mainloop()"
   ]
  },
  {
   "cell_type": "code",
   "execution_count": null,
   "metadata": {},
   "outputs": [],
   "source": []
  }
 ],
 "metadata": {
  "kernelspec": {
   "display_name": "Python 3",
   "language": "python",
   "name": "python3"
  },
  "language_info": {
   "codemirror_mode": {
    "name": "ipython",
    "version": 3
   },
   "file_extension": ".py",
   "mimetype": "text/x-python",
   "name": "python",
   "nbconvert_exporter": "python",
   "pygments_lexer": "ipython3",
   "version": "3.6.12"
  }
 },
 "nbformat": 4,
 "nbformat_minor": 4
}

{
 "cells": [
  {
   "cell_type": "code",
   "execution_count": 7,
   "metadata": {},
   "outputs": [
    {
     "ename": "SyntaxError",
     "evalue": "EOL while scanning string literal (<ipython-input-7-a1ccf92579e3>, line 49)",
     "output_type": "error",
     "traceback": [
      "\u001b[1;36m  File \u001b[1;32m\"<ipython-input-7-a1ccf92579e3>\"\u001b[1;36m, line \u001b[1;32m49\u001b[0m\n\u001b[1;33m    print(\"Could not request results from Google\u001b[0m\n\u001b[1;37m                                                 ^\u001b[0m\n\u001b[1;31mSyntaxError\u001b[0m\u001b[1;31m:\u001b[0m EOL while scanning string literal\n"
     ]
    }
   ],
   "source": [
    "#Python 2.x program for Speech Recognition \n",
    "\n",
    "import speech_recognition as sr \n",
    "\n",
    "#enter the name of usb microphone that you found \n",
    "#using lsusb \n",
    "#the following name is only used as an example \n",
    "mic_name = \"USB Device 0x46d:0x825: Audio (hw:1, 0)\"\n",
    "#Sample rate is how often values are recorded \n",
    "sample_rate = 48000\n",
    "#Chunk is like a buffer. It stores 2048 samples (bytes of data) \n",
    "#here. \n",
    "#it is advisable to use powers of 2 such as 1024 or 2048 \n",
    "chunk_size = 2048\n",
    "#Initialize the recognizer \n",
    "r = sr.Recognizer() \n",
    "\n",
    "#generate a list of all audio cards/microphones \n",
    "mic_list = sr.Microphone.list_microphone_names() \n",
    "\n",
    "#the following loop aims to set the device ID of the mic that \n",
    "#we specifically want to use to avoid ambiguity. \n",
    "for i, microphone_name in enumerate(mic_list): \n",
    "\tif microphone_name == mic_name: \n",
    "\t\tdevice_id = i \n",
    "\n",
    "#use the microphone as source for input. Here, we also specify \n",
    "#which device ID to specifically look for incase the microphone \n",
    "#is not working, an error will pop up saying \"device_id undefined\" \n",
    "with sr.Microphone(device_index = device_id, sample_rate = sample_rate, \n",
    "\t\t\t\t\t\tchunk_size = chunk_size) as source: \n",
    "\t#wait for a second to let the recognizer adjust the \n",
    "\t#energy threshold based on the surrounding noise level \n",
    "\tr.adjust_for_ambient_noise(source) \n",
    "\tprint (\"Say Something\")\n",
    "\t#listens for the user's input \n",
    "\taudio = r.listen(source) \n",
    "\t\t\n",
    "\ttry: \n",
    "\t\ttext = r.recognize_google(audio) \n",
    "\t\tprint (\"you said: \" + text)\n",
    "\t\n",
    "\t#error occurs when google could not understand what was said \n",
    "\t\n",
    "\texcept sr.UnknownValueError: \n",
    "\t\tprint(\"Google Speech Recognition could not understand audio\") \n",
    "\t\n",
    "\texcept sr.RequestError as e: \n",
    "\t\tprint(\"Could not request results from Google \n",
    "\t\t\t\t\t\t\t\tSpeech Recognition service; {0}\".format(e)) \n"
   ]
  },
  {
   "cell_type": "code",
   "execution_count": null,
   "metadata": {},
   "outputs": [],
   "source": []
  }
 ],
 "metadata": {
  "kernelspec": {
   "display_name": "Python 3",
   "language": "python",
   "name": "python3"
  },
  "language_info": {
   "codemirror_mode": {
    "name": "ipython",
    "version": 3
   },
   "file_extension": ".py",
   "mimetype": "text/x-python",
   "name": "python",
   "nbconvert_exporter": "python",
   "pygments_lexer": "ipython3",
   "version": "3.6.12"
  }
 },
 "nbformat": 4,
 "nbformat_minor": 2
}

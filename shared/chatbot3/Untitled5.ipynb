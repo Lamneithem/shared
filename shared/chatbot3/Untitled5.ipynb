{
 "cells": [
  {
   "cell_type": "code",
   "execution_count": 1,
   "metadata": {},
   "outputs": [
    {
     "name": "stdout",
     "output_type": "stream",
     "text": [
      "Requirement already satisfied: pyttsx3 in /home/firedrake/anaconda3/envs/nicki/lib/python3.6/site-packages (2.90)\n",
      "Note: you may need to restart the kernel to use updated packages.\n"
     ]
    }
   ],
   "source": [
    "pip install pyttsx3"
   ]
  },
  {
   "cell_type": "code",
   "execution_count": 2,
   "metadata": {},
   "outputs": [
    {
     "name": "stdout",
     "output_type": "stream",
     "text": [
      "Requirement already satisfied: wikipedia in /home/firedrake/anaconda3/envs/nicki/lib/python3.6/site-packages (1.4.0)\n",
      "Requirement already satisfied: beautifulsoup4 in /home/firedrake/anaconda3/envs/nicki/lib/python3.6/site-packages (from wikipedia) (4.9.3)\n",
      "Requirement already satisfied: requests<3.0.0,>=2.0.0 in /home/firedrake/anaconda3/envs/nicki/lib/python3.6/site-packages (from wikipedia) (2.25.1)\n",
      "Requirement already satisfied: idna<3,>=2.5 in /home/firedrake/anaconda3/envs/nicki/lib/python3.6/site-packages (from requests<3.0.0,>=2.0.0->wikipedia) (2.10)\n",
      "Requirement already satisfied: chardet<5,>=3.0.2 in /home/firedrake/anaconda3/envs/nicki/lib/python3.6/site-packages (from requests<3.0.0,>=2.0.0->wikipedia) (4.0.0)\n",
      "Requirement already satisfied: certifi>=2017.4.17 in /home/firedrake/anaconda3/envs/nicki/lib/python3.6/site-packages (from requests<3.0.0,>=2.0.0->wikipedia) (2020.12.5)\n",
      "Requirement already satisfied: urllib3<1.27,>=1.21.1 in /home/firedrake/anaconda3/envs/nicki/lib/python3.6/site-packages (from requests<3.0.0,>=2.0.0->wikipedia) (1.26.3)\n",
      "Requirement already satisfied: soupsieve>1.2 in /home/firedrake/anaconda3/envs/nicki/lib/python3.6/site-packages (from beautifulsoup4->wikipedia) (2.2)\n",
      "Note: you may need to restart the kernel to use updated packages.\n"
     ]
    }
   ],
   "source": [
    "pip install wikipedia"
   ]
  },
  {
   "cell_type": "code",
   "execution_count": 3,
   "metadata": {},
   "outputs": [
    {
     "name": "stdout",
     "output_type": "stream",
     "text": [
      "Requirement already satisfied: SpeechRecognition in /home/firedrake/anaconda3/envs/nicki/lib/python3.6/site-packages (3.6.3)\n",
      "Note: you may need to restart the kernel to use updated packages.\n"
     ]
    }
   ],
   "source": [
    "pip install SpeechRecognition"
   ]
  },
  {
   "cell_type": "code",
   "execution_count": 4,
   "metadata": {},
   "outputs": [
    {
     "name": "stdout",
     "output_type": "stream",
     "text": [
      "Requirement already satisfied: pygame in /home/firedrake/anaconda3/envs/nicki/lib/python3.6/site-packages (2.0.1)\n",
      "Note: you may need to restart the kernel to use updated packages.\n"
     ]
    }
   ],
   "source": [
    "pip install pygame"
   ]
  },
  {
   "cell_type": "code",
   "execution_count": 5,
   "metadata": {},
   "outputs": [
    {
     "name": "stdout",
     "output_type": "stream",
     "text": [
      "Requirement already satisfied: pyowm in /home/firedrake/anaconda3/envs/nicki/lib/python3.6/site-packages (2.10.0)\n",
      "Requirement already satisfied: geojson<3,>=2.3.0 in /home/firedrake/anaconda3/envs/nicki/lib/python3.6/site-packages (from pyowm) (2.5.0)\n",
      "Requirement already satisfied: requests<3,>=2.20.0 in /home/firedrake/anaconda3/envs/nicki/lib/python3.6/site-packages (from pyowm) (2.25.1)\n",
      "Requirement already satisfied: certifi>=2017.4.17 in /home/firedrake/anaconda3/envs/nicki/lib/python3.6/site-packages (from requests<3,>=2.20.0->pyowm) (2020.12.5)\n",
      "Requirement already satisfied: urllib3<1.27,>=1.21.1 in /home/firedrake/anaconda3/envs/nicki/lib/python3.6/site-packages (from requests<3,>=2.20.0->pyowm) (1.26.3)\n",
      "Requirement already satisfied: chardet<5,>=3.0.2 in /home/firedrake/anaconda3/envs/nicki/lib/python3.6/site-packages (from requests<3,>=2.20.0->pyowm) (4.0.0)\n",
      "Requirement already satisfied: idna<3,>=2.5 in /home/firedrake/anaconda3/envs/nicki/lib/python3.6/site-packages (from requests<3,>=2.20.0->pyowm) (2.10)\n",
      "Note: you may need to restart the kernel to use updated packages.\n"
     ]
    }
   ],
   "source": [
    "pip install pyowm"
   ]
  },
  {
   "cell_type": "code",
   "execution_count": 6,
   "metadata": {},
   "outputs": [
    {
     "name": "stdout",
     "output_type": "stream",
     "text": [
      "Requirement already satisfied: pyaudio in /home/firedrake/anaconda3/envs/nicki/lib/python3.6/site-packages (0.2.11)\n",
      "Note: you may need to restart the kernel to use updated packages.\n"
     ]
    }
   ],
   "source": [
    "pip install pyaudio"
   ]
  },
  {
   "cell_type": "code",
   "execution_count": 7,
   "metadata": {},
   "outputs": [
    {
     "name": "stdout",
     "output_type": "stream",
     "text": [
      "Collecting package metadata (current_repodata.json): done\n",
      "Solving environment: done\n",
      "\n",
      "## Package Plan ##\n",
      "\n",
      "  environment location: /home/firedrake/anaconda3/envs/nicki\n",
      "\n",
      "  added / updated specs:\n",
      "    - pyaudio\n",
      "\n",
      "\n",
      "The following packages will be downloaded:\n",
      "\n",
      "    package                    |            build\n",
      "    ---------------------------|-----------------\n",
      "    pyaudio-0.2.11             |   py36h7b6447c_2         188 KB  anaconda\n",
      "    ------------------------------------------------------------\n",
      "                                           Total:         188 KB\n",
      "\n",
      "The following packages will be UPDATED:\n",
      "\n",
      "  pyaudio            conda-forge/label/cf201901::pyaudio-0~ --> anaconda::pyaudio-0.2.11-py36h7b6447c_2\n",
      "\n",
      "\n",
      "\n",
      "Downloading and Extracting Packages\n",
      "pyaudio-0.2.11       | 188 KB    | ##################################### | 100% \n",
      "Preparing transaction: done\n",
      "Verifying transaction: done\n",
      "Executing transaction: done\n",
      "\n",
      "Note: you may need to restart the kernel to use updated packages.\n"
     ]
    }
   ],
   "source": [
    "conda install -c anaconda pyaudio"
   ]
  },
  {
   "cell_type": "code",
   "execution_count": 3,
   "metadata": {},
   "outputs": [
    {
     "name": "stdout",
     "output_type": "stream",
     "text": [
      "pygame 2.0.1 (SDL 2.0.14, Python 3.6.12)\n",
      "Hello from the pygame community. https://www.pygame.org/contribute.html\n"
     ]
    }
   ],
   "source": [
    "import random\n",
    "import datetime\n",
    "import webbrowser\n",
    "import pyttsx3\n",
    "import wikipedia\n",
    "from pygame import mixer\n",
    "import speech_recognition as sr"
   ]
  },
  {
   "cell_type": "code",
   "execution_count": 4,
   "metadata": {},
   "outputs": [],
   "source": [
    "engine = pyttsx3.init()\n",
    "voices = engine.getProperty('voices')\n",
    "engine.setProperty('voice', voices[1].id)\n",
    "volume = engine.getProperty('volume')\n",
    "engine.setProperty('volume', 10.0)\n",
    "rate = engine.getProperty('rate')\n",
    "engine.setProperty('rate', rate - 25)"
   ]
  },
  {
   "cell_type": "code",
   "execution_count": 1,
   "metadata": {},
   "outputs": [],
   "source": [
    "greetings = ['hey there', 'hello', 'hi', 'Hai', 'hey!', 'hey']\n",
    "question = ['How are you?', 'How are you doing?']\n",
    "responses = ['Okay', \"I'm fine\"]\n",
    "var1 = ['who made you', 'who created you']\n",
    "var2 = ['I_was_created_by_google_right_in_his_computer.', 'Edward', 'Some_guy_whom_i_never_got_to_know.']\n",
    "var3 = ['what time is it', 'what is the time', 'time']\n",
    "var4 = ['who are you', 'what is you name']\n",
    "cmd1 = ['open browser', 'open google']\n",
    "cmd2 = ['play music', 'play songs', 'play a song', 'open music player']\n",
    "cmd3 = ['tell a joke', 'tell me a joke', 'say something funny', 'tell something funny']\n",
    "jokes = ['Can a kangaroo jump higher than a house? Of course, a house doesn’t jump at all.', 'My dog used to chase people on a bike a lot. It got so bad, finally I had to take his bike away.', 'Doctor: Im sorry but you suffer from a terminal illness and have only 10 to live.Patient: What do you mean, 10? 10 what? Months? Weeks?!\"Doctor: Nine.']\n",
    "cmd4 = ['open youtube', 'i want to watch a video']\n",
    "cmd5 = ['tell me the weather', 'weather', 'what about the weather']\n",
    "cmd6 = ['exit', 'close', 'goodbye', 'nothing']\n",
    "cmd7 = ['what is your color', 'what is your colour', 'your color', 'your color?']\n",
    "colrep = ['Right now its rainbow', 'Right now its transparent', 'Right now its non chromatic']\n",
    "cmd8 = ['what is you favourite colour', 'what is your favourite color']\n",
    "cmd9 = ['thank you']\n",
    "repfr9 = ['youre welcome', 'glad i could help you']"
   ]
  },
  {
   "cell_type": "code",
   "execution_count": null,
   "metadata": {},
   "outputs": [
    {
     "name": "stdout",
     "output_type": "stream",
     "text": [
      "Tell me something:\n",
      "You said:- WhatsApp\n",
      "Tell me something:\n"
     ]
    }
   ],
   "source": [
    "while True:\n",
    "    import datetime\n",
    "    import speech_recognition as sr\n",
    "    \n",
    "    \n",
    "    now = datetime.datetime.now()\n",
    "    r = sr.Recognizer()\n",
    "    with sr.Microphone() as source:\n",
    "        print(\"Tell me something:\")\n",
    "        audio = r.listen(source)\n",
    "        try:\n",
    "            print(\"You said:- \" + r.recognize_google(audio))\n",
    "        except sr.UnknownValueError:\n",
    "            print(\"Could not understand audio\")\n",
    "            engine.say('I didnt get that. Rerun the code')\n",
    "            engine.runAndWait()\n",
    "            "
   ]
  },
  {
   "cell_type": "code",
   "execution_count": null,
   "metadata": {},
   "outputs": [],
   "source": [
    "if r.recognize_google(audio) in greetings:\n",
    "       random_greeting = random.choice(greetings)\n",
    "       print(random_greeting)\n",
    "       engine.say(random_greeting)\n",
    "       engine.runAndWait()\n",
    "   elif r.recognize_google(audio) in question:\n",
    "       engine.say('I am fine')\n",
    "       engine.runAndWait()\n",
    "       print('I am fine')\n",
    "   elif r.recognize_google(audio) in var1:\n",
    "       engine.say('I was made by edward')\n",
    "       engine.runAndWait()\n",
    "       reply = random.choice(var2)\n",
    "       print(reply)\n",
    "   elif r.recognize_google(audio) in cmd9:\n",
    "       print(random.choice(repfr9))\n",
    "       engine.say(random.choice(repfr9))\n",
    "       engine.runAndWait()\n",
    "   elif r.recognize_google(audio) in cmd7:\n",
    "       print(random.choice(colrep))\n",
    "       engine.say(random.choice(colrep))\n",
    "       engine.runAndWait()\n",
    "       print('It keeps changing every micro second')\n",
    "       engine.say('It keeps changing every micro second')\n",
    "       engine.runAndWait()\n",
    "   elif r.recognize_google(audio) in cmd8:\n",
    "       print(random.choice(colrep))\n",
    "       engine.say(random.choice(colrep))\n",
    "       engine.runAndWait()\n",
    "       print('It keeps changing every micro second')\n",
    "       engine.say('It keeps changing every micro second')\n",
    "       engine.runAndWait()\n",
    "   elif r.recognize_google(audio) in cmd2:\n",
    "       mixer.init()\n",
    "       mixer.music.load(\"C:\\\\Users\\Edward Zion SAJI\\Downloads\\Mighty_God_-_Martin__Colleen_Rebeiro.55145718.wav\")\n",
    "       mixer.music.play()\n",
    "   elif r.recognize_google(audio) in var4:\n",
    "       engine.say('I am edza your personal AI assistant')\n",
    "       engine.runAndWait()\n",
    "   elif r.recognize_google(audio) in cmd4:\n",
    "       webbrowser.open('www.youtube.com')\n",
    "   elif r.recognize_google(audio) in cmd6:\n",
    "       print('see you later')\n",
    "       engine.say('see you later')\n",
    "       engine.runAndWait()\n",
    "       exit()\n",
    "   elif r.recognize_google(audio) in cmd5:\n",
    "       owm = pyowm.OWM('YOUR_API_KEY')\n",
    "       observation = owm.weather_at_place('Bangalore, IN')\n",
    "       observation_list = owm.weather_around_coords(12.972442, 77.580643)\n",
    "       w = observation.get_weather()\n",
    "       w.get_wind()\n",
    "       w.get_humidity()\n",
    "       w.get_temperature('celsius')\n",
    "       print(w)\n",
    "       print(w.get_wind())\n",
    "       print(w.get_humidity())\n",
    "       print(w.get_temperature('celsius'))\n",
    "       engine.say(w.get_wind())\n",
    "       engine.runAndWait()\n",
    "       engine.say('humidity')\n",
    "       engine.runAndWait()\n",
    "       engine.say(w.get_humidity())\n",
    "       engine.runAndWait()\n",
    "       engine.say('temperature')\n",
    "       engine.runAndWait()\n",
    "       engine.say(w.get_temperature('celsius'))\n",
    "       engine.runAndWait()\n",
    "   elif r.recognize_google(audio) in var3:\n",
    "\n",
    "       print(\"Current date and time : \")\n",
    "       print(now.strftime(\"The time is %H:%M\"))\n",
    "       engine.say(now.strftime(\"The time is %H:%M\"))\n",
    "       engine.runAndWait()\n",
    "   elif r.recognize_google(audio) in cmd1:\n",
    "       webbrowser.open('www.google.com')\n",
    "   elif r.recognize_google(audio) in cmd3:\n",
    "       jokrep = random.choice(jokes)\n",
    "       engine.say(jokrep)\n",
    "       engine.runAndWait()\n",
    "   else:\n",
    "       engine.say(\"please wait\")\n",
    "       engine.runAndWait()\n",
    "       print(wikipedia.summary(r.recognize_google(audio)))\n",
    "       engine.say(wikipedia.summary(r.recognize_google(audio)))\n",
    "       engine.runAndWait()\n",
    "       userInput3 = input(\"or else search in google\")\n",
    "       webbrowser.open_new('www.google.com/search?q=' + userInput3)"
   ]
  },
  {
   "cell_type": "code",
   "execution_count": null,
   "metadata": {},
   "outputs": [],
   "source": [
    "pip install pypiwin32"
   ]
  },
  {
   "cell_type": "code",
   "execution_count": null,
   "metadata": {},
   "outputs": [],
   "source": []
  }
 ],
 "metadata": {
  "kernelspec": {
   "display_name": "Python (Nicki)",
   "language": "python",
   "name": "nicki"
  },
  "language_info": {
   "codemirror_mode": {
    "name": "ipython",
    "version": 3
   },
   "file_extension": ".py",
   "mimetype": "text/x-python",
   "name": "python",
   "nbconvert_exporter": "python",
   "pygments_lexer": "ipython3",
   "version": "3.6.12"
  }
 },
 "nbformat": 4,
 "nbformat_minor": 2
}
